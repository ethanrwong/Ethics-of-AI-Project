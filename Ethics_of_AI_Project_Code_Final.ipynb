{
  "cells": [
    {
      "cell_type": "markdown",
      "id": "316beb43",
      "metadata": {
        "id": "316beb43",
        "jp-MarkdownHeadingCollapsed": true
      },
      "source": [
        "# Import Libraries and Data"
      ]
    },
    {
      "cell_type": "code",
      "execution_count": null,
      "id": "d1a31330",
      "metadata": {
        "id": "d1a31330"
      },
      "outputs": [],
      "source": [
        "import pandas as pd\n",
        "import numpy as np\n",
        "import matplotlib.pyplot as plt\n",
        "from sklearn.ensemble import BaggingClassifier, RandomForestClassifier, AdaBoostClassifier, GradientBoostingClassifier, GradientBoostingRegressor\n",
        "from sklearn.model_selection import GridSearchCV, StratifiedKFold, train_test_split\n",
        "from sklearn.tree import DecisionTreeClassifier\n",
        "from sklearn.linear_model import LogisticRegression\n",
        "from sklearn.neighbors import KNeighborsClassifier\n",
        "from sklearn.pipeline import Pipeline\n",
        "from sklearn.preprocessing import StandardScaler\n",
        "from sklearn.metrics import accuracy_score, balanced_accuracy_score, f1_score, precision_score, recall_score, average_precision_score, roc_auc_score, classification_report\n",
        "\n",
        "# Reset Plot Settings\n",
        "plt.rcdefaults()"
      ]
    },
    {
      "cell_type": "code",
      "execution_count": null,
      "id": "a5be7ec0",
      "metadata": {
        "id": "a5be7ec0"
      },
      "outputs": [],
      "source": [
        "df = pd.read_csv('bar_pass_prediction.csv')"
      ]
    },
    {
      "cell_type": "markdown",
      "id": "239a160a",
      "metadata": {
        "id": "239a160a"
      },
      "source": [
        "## Printing First 5 Rows of the Data"
      ]
    },
    {
      "cell_type": "code",
      "execution_count": null,
      "id": "49e06fd8",
      "metadata": {
        "colab": {
          "base_uri": "https://localhost:8080/",
          "height": 496
        },
        "id": "49e06fd8",
        "outputId": "1b766374-a54f-48c0-b78e-7da2db468aef"
      },
      "outputs": [
        {
          "output_type": "execute_result",
          "data": {
            "text/plain": [
              "   decile1b  decile3  ID  decile1  sex  race  cluster  lsat  ugpa  zfygpa  \\\n",
              "0      10.0     10.0   2     10.0  1.0   7.0      1.0  44.0   3.5    1.33   \n",
              "1       5.0      4.0   3      5.0  1.0   7.0      2.0  29.0   3.5   -0.11   \n",
              "2       3.0      2.0  36      3.0  2.0   7.0      3.0  36.0   3.5   -0.64   \n",
              "3       7.0      4.0  52      7.0  2.0   7.0      3.0  39.0   3.5    0.34   \n",
              "4       9.0      8.0  55      9.0  2.0   7.0      4.0  48.0   3.5    1.02   \n",
              "\n",
              "   ...  hisp pass_bar                bar bar_passed  tier   index6040  \\\n",
              "0  ...     0        1  a Passed 1st time       True   4.0  886.842082   \n",
              "1  ...     0        1  a Passed 1st time       True   2.0  649.999987   \n",
              "2  ...     0        1  a Passed 1st time       True   3.0  760.526298   \n",
              "3  ...     0        1  a Passed 1st time       True   3.0  807.894717   \n",
              "4  ...     0        1  a Passed 1st time       True   5.0  949.999974   \n",
              "\n",
              "     indxgrp   indxgrp2  dnn_bar_pass_prediction  gpa  \n",
              "0     g 700+     i 820+                 0.979804  3.5  \n",
              "1  f 640-700  f 640-700                 0.979804  3.5  \n",
              "2     g 700+  h 760-820                 0.979804  3.5  \n",
              "3     g 700+  h 760-820                 0.979804  3.5  \n",
              "4     g 700+     i 820+                 0.979804  3.5  \n",
              "\n",
              "[5 rows x 39 columns]"
            ],
            "text/html": [
              "\n",
              "  <div id=\"df-55a5d0d7-f3ab-4118-a6a9-205bebb52c0d\" class=\"colab-df-container\">\n",
              "    <div>\n",
              "<style scoped>\n",
              "    .dataframe tbody tr th:only-of-type {\n",
              "        vertical-align: middle;\n",
              "    }\n",
              "\n",
              "    .dataframe tbody tr th {\n",
              "        vertical-align: top;\n",
              "    }\n",
              "\n",
              "    .dataframe thead th {\n",
              "        text-align: right;\n",
              "    }\n",
              "</style>\n",
              "<table border=\"1\" class=\"dataframe\">\n",
              "  <thead>\n",
              "    <tr style=\"text-align: right;\">\n",
              "      <th></th>\n",
              "      <th>decile1b</th>\n",
              "      <th>decile3</th>\n",
              "      <th>ID</th>\n",
              "      <th>decile1</th>\n",
              "      <th>sex</th>\n",
              "      <th>race</th>\n",
              "      <th>cluster</th>\n",
              "      <th>lsat</th>\n",
              "      <th>ugpa</th>\n",
              "      <th>zfygpa</th>\n",
              "      <th>...</th>\n",
              "      <th>hisp</th>\n",
              "      <th>pass_bar</th>\n",
              "      <th>bar</th>\n",
              "      <th>bar_passed</th>\n",
              "      <th>tier</th>\n",
              "      <th>index6040</th>\n",
              "      <th>indxgrp</th>\n",
              "      <th>indxgrp2</th>\n",
              "      <th>dnn_bar_pass_prediction</th>\n",
              "      <th>gpa</th>\n",
              "    </tr>\n",
              "  </thead>\n",
              "  <tbody>\n",
              "    <tr>\n",
              "      <th>0</th>\n",
              "      <td>10.0</td>\n",
              "      <td>10.0</td>\n",
              "      <td>2</td>\n",
              "      <td>10.0</td>\n",
              "      <td>1.0</td>\n",
              "      <td>7.0</td>\n",
              "      <td>1.0</td>\n",
              "      <td>44.0</td>\n",
              "      <td>3.5</td>\n",
              "      <td>1.33</td>\n",
              "      <td>...</td>\n",
              "      <td>0</td>\n",
              "      <td>1</td>\n",
              "      <td>a Passed 1st time</td>\n",
              "      <td>True</td>\n",
              "      <td>4.0</td>\n",
              "      <td>886.842082</td>\n",
              "      <td>g 700+</td>\n",
              "      <td>i 820+</td>\n",
              "      <td>0.979804</td>\n",
              "      <td>3.5</td>\n",
              "    </tr>\n",
              "    <tr>\n",
              "      <th>1</th>\n",
              "      <td>5.0</td>\n",
              "      <td>4.0</td>\n",
              "      <td>3</td>\n",
              "      <td>5.0</td>\n",
              "      <td>1.0</td>\n",
              "      <td>7.0</td>\n",
              "      <td>2.0</td>\n",
              "      <td>29.0</td>\n",
              "      <td>3.5</td>\n",
              "      <td>-0.11</td>\n",
              "      <td>...</td>\n",
              "      <td>0</td>\n",
              "      <td>1</td>\n",
              "      <td>a Passed 1st time</td>\n",
              "      <td>True</td>\n",
              "      <td>2.0</td>\n",
              "      <td>649.999987</td>\n",
              "      <td>f 640-700</td>\n",
              "      <td>f 640-700</td>\n",
              "      <td>0.979804</td>\n",
              "      <td>3.5</td>\n",
              "    </tr>\n",
              "    <tr>\n",
              "      <th>2</th>\n",
              "      <td>3.0</td>\n",
              "      <td>2.0</td>\n",
              "      <td>36</td>\n",
              "      <td>3.0</td>\n",
              "      <td>2.0</td>\n",
              "      <td>7.0</td>\n",
              "      <td>3.0</td>\n",
              "      <td>36.0</td>\n",
              "      <td>3.5</td>\n",
              "      <td>-0.64</td>\n",
              "      <td>...</td>\n",
              "      <td>0</td>\n",
              "      <td>1</td>\n",
              "      <td>a Passed 1st time</td>\n",
              "      <td>True</td>\n",
              "      <td>3.0</td>\n",
              "      <td>760.526298</td>\n",
              "      <td>g 700+</td>\n",
              "      <td>h 760-820</td>\n",
              "      <td>0.979804</td>\n",
              "      <td>3.5</td>\n",
              "    </tr>\n",
              "    <tr>\n",
              "      <th>3</th>\n",
              "      <td>7.0</td>\n",
              "      <td>4.0</td>\n",
              "      <td>52</td>\n",
              "      <td>7.0</td>\n",
              "      <td>2.0</td>\n",
              "      <td>7.0</td>\n",
              "      <td>3.0</td>\n",
              "      <td>39.0</td>\n",
              "      <td>3.5</td>\n",
              "      <td>0.34</td>\n",
              "      <td>...</td>\n",
              "      <td>0</td>\n",
              "      <td>1</td>\n",
              "      <td>a Passed 1st time</td>\n",
              "      <td>True</td>\n",
              "      <td>3.0</td>\n",
              "      <td>807.894717</td>\n",
              "      <td>g 700+</td>\n",
              "      <td>h 760-820</td>\n",
              "      <td>0.979804</td>\n",
              "      <td>3.5</td>\n",
              "    </tr>\n",
              "    <tr>\n",
              "      <th>4</th>\n",
              "      <td>9.0</td>\n",
              "      <td>8.0</td>\n",
              "      <td>55</td>\n",
              "      <td>9.0</td>\n",
              "      <td>2.0</td>\n",
              "      <td>7.0</td>\n",
              "      <td>4.0</td>\n",
              "      <td>48.0</td>\n",
              "      <td>3.5</td>\n",
              "      <td>1.02</td>\n",
              "      <td>...</td>\n",
              "      <td>0</td>\n",
              "      <td>1</td>\n",
              "      <td>a Passed 1st time</td>\n",
              "      <td>True</td>\n",
              "      <td>5.0</td>\n",
              "      <td>949.999974</td>\n",
              "      <td>g 700+</td>\n",
              "      <td>i 820+</td>\n",
              "      <td>0.979804</td>\n",
              "      <td>3.5</td>\n",
              "    </tr>\n",
              "  </tbody>\n",
              "</table>\n",
              "<p>5 rows × 39 columns</p>\n",
              "</div>\n",
              "    <div class=\"colab-df-buttons\">\n",
              "\n",
              "  <div class=\"colab-df-container\">\n",
              "    <button class=\"colab-df-convert\" onclick=\"convertToInteractive('df-55a5d0d7-f3ab-4118-a6a9-205bebb52c0d')\"\n",
              "            title=\"Convert this dataframe to an interactive table.\"\n",
              "            style=\"display:none;\">\n",
              "\n",
              "  <svg xmlns=\"http://www.w3.org/2000/svg\" height=\"24px\" viewBox=\"0 -960 960 960\">\n",
              "    <path d=\"M120-120v-720h720v720H120Zm60-500h600v-160H180v160Zm220 220h160v-160H400v160Zm0 220h160v-160H400v160ZM180-400h160v-160H180v160Zm440 0h160v-160H620v160ZM180-180h160v-160H180v160Zm440 0h160v-160H620v160Z\"/>\n",
              "  </svg>\n",
              "    </button>\n",
              "\n",
              "  <style>\n",
              "    .colab-df-container {\n",
              "      display:flex;\n",
              "      gap: 12px;\n",
              "    }\n",
              "\n",
              "    .colab-df-convert {\n",
              "      background-color: #E8F0FE;\n",
              "      border: none;\n",
              "      border-radius: 50%;\n",
              "      cursor: pointer;\n",
              "      display: none;\n",
              "      fill: #1967D2;\n",
              "      height: 32px;\n",
              "      padding: 0 0 0 0;\n",
              "      width: 32px;\n",
              "    }\n",
              "\n",
              "    .colab-df-convert:hover {\n",
              "      background-color: #E2EBFA;\n",
              "      box-shadow: 0px 1px 2px rgba(60, 64, 67, 0.3), 0px 1px 3px 1px rgba(60, 64, 67, 0.15);\n",
              "      fill: #174EA6;\n",
              "    }\n",
              "\n",
              "    .colab-df-buttons div {\n",
              "      margin-bottom: 4px;\n",
              "    }\n",
              "\n",
              "    [theme=dark] .colab-df-convert {\n",
              "      background-color: #3B4455;\n",
              "      fill: #D2E3FC;\n",
              "    }\n",
              "\n",
              "    [theme=dark] .colab-df-convert:hover {\n",
              "      background-color: #434B5C;\n",
              "      box-shadow: 0px 1px 3px 1px rgba(0, 0, 0, 0.15);\n",
              "      filter: drop-shadow(0px 1px 2px rgba(0, 0, 0, 0.3));\n",
              "      fill: #FFFFFF;\n",
              "    }\n",
              "  </style>\n",
              "\n",
              "    <script>\n",
              "      const buttonEl =\n",
              "        document.querySelector('#df-55a5d0d7-f3ab-4118-a6a9-205bebb52c0d button.colab-df-convert');\n",
              "      buttonEl.style.display =\n",
              "        google.colab.kernel.accessAllowed ? 'block' : 'none';\n",
              "\n",
              "      async function convertToInteractive(key) {\n",
              "        const element = document.querySelector('#df-55a5d0d7-f3ab-4118-a6a9-205bebb52c0d');\n",
              "        const dataTable =\n",
              "          await google.colab.kernel.invokeFunction('convertToInteractive',\n",
              "                                                    [key], {});\n",
              "        if (!dataTable) return;\n",
              "\n",
              "        const docLinkHtml = 'Like what you see? Visit the ' +\n",
              "          '<a target=\"_blank\" href=https://colab.research.google.com/notebooks/data_table.ipynb>data table notebook</a>'\n",
              "          + ' to learn more about interactive tables.';\n",
              "        element.innerHTML = '';\n",
              "        dataTable['output_type'] = 'display_data';\n",
              "        await google.colab.output.renderOutput(dataTable, element);\n",
              "        const docLink = document.createElement('div');\n",
              "        docLink.innerHTML = docLinkHtml;\n",
              "        element.appendChild(docLink);\n",
              "      }\n",
              "    </script>\n",
              "  </div>\n",
              "\n",
              "\n",
              "<div id=\"df-7f631404-92b0-46c4-a645-ad57fca9963b\">\n",
              "  <button class=\"colab-df-quickchart\" onclick=\"quickchart('df-7f631404-92b0-46c4-a645-ad57fca9963b')\"\n",
              "            title=\"Suggest charts\"\n",
              "            style=\"display:none;\">\n",
              "\n",
              "<svg xmlns=\"http://www.w3.org/2000/svg\" height=\"24px\"viewBox=\"0 0 24 24\"\n",
              "     width=\"24px\">\n",
              "    <g>\n",
              "        <path d=\"M19 3H5c-1.1 0-2 .9-2 2v14c0 1.1.9 2 2 2h14c1.1 0 2-.9 2-2V5c0-1.1-.9-2-2-2zM9 17H7v-7h2v7zm4 0h-2V7h2v10zm4 0h-2v-4h2v4z\"/>\n",
              "    </g>\n",
              "</svg>\n",
              "  </button>\n",
              "\n",
              "<style>\n",
              "  .colab-df-quickchart {\n",
              "      --bg-color: #E8F0FE;\n",
              "      --fill-color: #1967D2;\n",
              "      --hover-bg-color: #E2EBFA;\n",
              "      --hover-fill-color: #174EA6;\n",
              "      --disabled-fill-color: #AAA;\n",
              "      --disabled-bg-color: #DDD;\n",
              "  }\n",
              "\n",
              "  [theme=dark] .colab-df-quickchart {\n",
              "      --bg-color: #3B4455;\n",
              "      --fill-color: #D2E3FC;\n",
              "      --hover-bg-color: #434B5C;\n",
              "      --hover-fill-color: #FFFFFF;\n",
              "      --disabled-bg-color: #3B4455;\n",
              "      --disabled-fill-color: #666;\n",
              "  }\n",
              "\n",
              "  .colab-df-quickchart {\n",
              "    background-color: var(--bg-color);\n",
              "    border: none;\n",
              "    border-radius: 50%;\n",
              "    cursor: pointer;\n",
              "    display: none;\n",
              "    fill: var(--fill-color);\n",
              "    height: 32px;\n",
              "    padding: 0;\n",
              "    width: 32px;\n",
              "  }\n",
              "\n",
              "  .colab-df-quickchart:hover {\n",
              "    background-color: var(--hover-bg-color);\n",
              "    box-shadow: 0 1px 2px rgba(60, 64, 67, 0.3), 0 1px 3px 1px rgba(60, 64, 67, 0.15);\n",
              "    fill: var(--button-hover-fill-color);\n",
              "  }\n",
              "\n",
              "  .colab-df-quickchart-complete:disabled,\n",
              "  .colab-df-quickchart-complete:disabled:hover {\n",
              "    background-color: var(--disabled-bg-color);\n",
              "    fill: var(--disabled-fill-color);\n",
              "    box-shadow: none;\n",
              "  }\n",
              "\n",
              "  .colab-df-spinner {\n",
              "    border: 2px solid var(--fill-color);\n",
              "    border-color: transparent;\n",
              "    border-bottom-color: var(--fill-color);\n",
              "    animation:\n",
              "      spin 1s steps(1) infinite;\n",
              "  }\n",
              "\n",
              "  @keyframes spin {\n",
              "    0% {\n",
              "      border-color: transparent;\n",
              "      border-bottom-color: var(--fill-color);\n",
              "      border-left-color: var(--fill-color);\n",
              "    }\n",
              "    20% {\n",
              "      border-color: transparent;\n",
              "      border-left-color: var(--fill-color);\n",
              "      border-top-color: var(--fill-color);\n",
              "    }\n",
              "    30% {\n",
              "      border-color: transparent;\n",
              "      border-left-color: var(--fill-color);\n",
              "      border-top-color: var(--fill-color);\n",
              "      border-right-color: var(--fill-color);\n",
              "    }\n",
              "    40% {\n",
              "      border-color: transparent;\n",
              "      border-right-color: var(--fill-color);\n",
              "      border-top-color: var(--fill-color);\n",
              "    }\n",
              "    60% {\n",
              "      border-color: transparent;\n",
              "      border-right-color: var(--fill-color);\n",
              "    }\n",
              "    80% {\n",
              "      border-color: transparent;\n",
              "      border-right-color: var(--fill-color);\n",
              "      border-bottom-color: var(--fill-color);\n",
              "    }\n",
              "    90% {\n",
              "      border-color: transparent;\n",
              "      border-bottom-color: var(--fill-color);\n",
              "    }\n",
              "  }\n",
              "</style>\n",
              "\n",
              "  <script>\n",
              "    async function quickchart(key) {\n",
              "      const quickchartButtonEl =\n",
              "        document.querySelector('#' + key + ' button');\n",
              "      quickchartButtonEl.disabled = true;  // To prevent multiple clicks.\n",
              "      quickchartButtonEl.classList.add('colab-df-spinner');\n",
              "      try {\n",
              "        const charts = await google.colab.kernel.invokeFunction(\n",
              "            'suggestCharts', [key], {});\n",
              "      } catch (error) {\n",
              "        console.error('Error during call to suggestCharts:', error);\n",
              "      }\n",
              "      quickchartButtonEl.classList.remove('colab-df-spinner');\n",
              "      quickchartButtonEl.classList.add('colab-df-quickchart-complete');\n",
              "    }\n",
              "    (() => {\n",
              "      let quickchartButtonEl =\n",
              "        document.querySelector('#df-7f631404-92b0-46c4-a645-ad57fca9963b button');\n",
              "      quickchartButtonEl.style.display =\n",
              "        google.colab.kernel.accessAllowed ? 'block' : 'none';\n",
              "    })();\n",
              "  </script>\n",
              "</div>\n",
              "    </div>\n",
              "  </div>\n"
            ],
            "application/vnd.google.colaboratory.intrinsic+json": {
              "type": "dataframe",
              "variable_name": "df"
            }
          },
          "metadata": {},
          "execution_count": 6
        }
      ],
      "source": [
        "df.head()"
      ]
    },
    {
      "cell_type": "markdown",
      "id": "5af7f0f4",
      "metadata": {
        "id": "5af7f0f4",
        "jp-MarkdownHeadingCollapsed": true
      },
      "source": [
        "# Data Pre-Processing (Cleaning)"
      ]
    },
    {
      "cell_type": "code",
      "execution_count": null,
      "id": "b80be4aa",
      "metadata": {
        "colab": {
          "base_uri": "https://localhost:8080/"
        },
        "id": "b80be4aa",
        "outputId": "4f97eaf4-c694-4f81-851e-43bb89007c44"
      },
      "outputs": [
        {
          "output_type": "stream",
          "name": "stdout",
          "text": [
            "['decile1b', 'decile3', 'ID', 'decile1', 'sex', 'race', 'cluster', 'lsat', 'ugpa', 'zfygpa', 'DOB_yr', 'grad', 'zgpa', 'bar1', 'bar1_yr', 'bar2', 'bar2_yr', 'fulltime', 'fam_inc', 'age', 'gender', 'parttime', 'male', 'race1', 'race2', 'Dropout', 'other', 'asian', 'black', 'hisp', 'pass_bar', 'bar', 'bar_passed', 'tier', 'index6040', 'indxgrp', 'indxgrp2', 'dnn_bar_pass_prediction', 'gpa']\n"
          ]
        }
      ],
      "source": [
        "column_names = list(df.columns)\n",
        "print(column_names)"
      ]
    },
    {
      "cell_type": "markdown",
      "id": "dd80df87-8207-48e0-baa6-ec3353e0503d",
      "metadata": {
        "id": "dd80df87-8207-48e0-baa6-ec3353e0503d"
      },
      "source": [
        "**These are the columns we chose to remove:**\n",
        "\n",
        "1. decile1b: Decile 1 and 3 seem to be more intuitive, and there are no values missing in decile1 that are present in decile1b\n",
        "2. ID: Index column with no predictive power and no duplicates\n",
        "3. sex, male: These are all different ways to list the same variable, gender. Converting the gender column to be binary should be the only thing we need to do.\n",
        "4. race, race2, other, asian, black, hisp: These variables are less complete representations of student race than race1.\n",
        "5. cluster: Unclear what this represents and no correlation with passing the bar.\n",
        "6. zfygpa, zgpa, gpa: These are forms of law-school GPA, and GPA is identical to UGPA. Deciles are more intuitive than these numbers and there is correlation between decile1/1b to zfygpa and decile3 to zgpa.\n",
        "7. DOB_yr, age: DOB_yr seems to represent the year a student was born and age seems to represent age. However, all the age variables are negative and even if you took their absolute values, they seem to be the ages of people taking the bar. Also, the data comes from a survey taken of people who started law school in 1991 and 9 of the DOB_yr entries are from before 1920. That means 9 of the people surveyed were 71 years old when they started law school. 70 of them were over 50 and one was 81. That seems fishy to me. Furthermore, neither of these variables correlate with bar_passed.\n",
        "8. bar1, bar1_yr, bar2, bar2_yr, bar, pass_bar: These all give info on when a student passed the bar or just repeat bar_passed. These could be useful if we want to predict when someone may pass the bar.\n",
        "9. parttime: Opposite of fulltime\n",
        "10. Dropout: This appears to represent whether someone dropped out of law school and still passed the bar. However, there is only one YES value, so the predictive value is likely very low.\n",
        "11. index6040: No correlation with passing the bar.\n",
        "12. dnn_bar_pass_prediction: This is another algorithm’s prediction of whether a student will pass the bar. We probably don't need this."
      ]
    },
    {
      "cell_type": "markdown",
      "id": "9d736a8e",
      "metadata": {
        "id": "9d736a8e"
      },
      "source": [
        "**These are the variables we chose to keep:**\n",
        "\n",
        "1. decile1, decile3: Deciles are a way for law schools to report class rankings. For example, decile1 most likely refers to year 1 GPA.\n",
        "2. lsat: LSAT score received by the student.\n",
        "3. ugpa: A student's undergraduate GPA.\n",
        "4. grad: Did the student graduate from law school. This variable has Y, X, and O, which likely correspond to to Yes or Transfer/No.\n",
        "5. fulltime: Did the student attend law school full time.\n",
        "6. fam_inc: Family income; appears to be broken into quintiles.\n",
        "8. gender: Gender of the student.\n",
        "9. bar_passed: Boolean target column for convenience, of whether someone passed the bar at any point\n",
        "10. tier: Tier of law school the student attended.\n",
        "11. indxgrp, indxgrp2: Unclear what these mean, but both have a strong correlation to passing the bar, so getting rid of them is not as viable.\n",
        "12. race1: Race of the student. This column had the most complete representation of all the race columns."
      ]
    },
    {
      "cell_type": "code",
      "execution_count": null,
      "id": "c3c77686-9153-4d5f-b671-7af97031795a",
      "metadata": {
        "id": "c3c77686-9153-4d5f-b671-7af97031795a"
      },
      "outputs": [],
      "source": [
        "# Filling null values for gender with 'male' - most frequent value in the column\n",
        "df['gender'] = df['gender'].fillna('male')"
      ]
    },
    {
      "cell_type": "code",
      "execution_count": null,
      "id": "9fe523c2-75fa-4ca5-b013-ab7a60dfa17b",
      "metadata": {
        "id": "9fe523c2-75fa-4ca5-b013-ab7a60dfa17b"
      },
      "outputs": [],
      "source": [
        "# Binarizing gender column\n",
        "df['gender'].replace('male', 1, inplace = True)\n",
        "df['gender'].replace('female', 0, inplace = True)"
      ]
    },
    {
      "cell_type": "code",
      "execution_count": null,
      "id": "1a594028-b812-4643-afb7-241e1c2f17cd",
      "metadata": {
        "id": "1a594028-b812-4643-afb7-241e1c2f17cd"
      },
      "outputs": [],
      "source": [
        "# Filling null values for race1 with 'white' - most frequent value in the column\n",
        "df['race1'] = df['race1'].fillna('white')"
      ]
    },
    {
      "cell_type": "code",
      "execution_count": null,
      "id": "87b644c4-482b-4d01-bf22-8ff362f81e3d",
      "metadata": {
        "id": "87b644c4-482b-4d01-bf22-8ff362f81e3d"
      },
      "outputs": [],
      "source": [
        "# Binarizing grad column - lumping single outlier O with 0\n",
        "df['grad'].replace(['Y', 'X','O'],[1,0,0], inplace = True)"
      ]
    },
    {
      "cell_type": "code",
      "execution_count": null,
      "id": "26419feb",
      "metadata": {
        "id": "26419feb"
      },
      "outputs": [],
      "source": [
        "# Listing Columns to Remove and Removing Them\n",
        "\n",
        "columns_to_remove = ['ID','gpa','zgpa','zfygpa','cluster','bar1','bar1_yr',\n",
        "                     'bar2','bar2_yr','pass_bar','bar','race','race2','asian',\n",
        "                    'black','hisp','other','Dropout','parttime','DOB_yr','age',\n",
        "                    'index6040','dnn_bar_pass_prediction','sex','male','decile1b']\n",
        "\n",
        "df.drop(columns = columns_to_remove, inplace=True)"
      ]
    },
    {
      "cell_type": "code",
      "execution_count": null,
      "id": "e7aeab6c-e8b1-4d03-80c3-94024706e72e",
      "metadata": {
        "id": "e7aeab6c-e8b1-4d03-80c3-94024706e72e"
      },
      "outputs": [],
      "source": [
        "# Turning indxgrp into integers that we can interpret as \"bins\"\n",
        "df['indxgrp'].replace({'g 700+': 7, 'f 640-700': 6, 'e 580-640': 5, 'd 520-580': 4, 'c 460-520': 3, 'b 400-460': 2, 'a under 400': 1}, inplace=True)\n",
        "df['indxgrp2'].replace({'i 820+': 9, 'f 640-700': 6, 'h 760-820': 8, 'g 700-760': 7, 'e 580-640': 5, 'd 520-580': 4, 'c 460-520': 3,\n",
        "                        'b 400-460': 2, 'a under 400': 1}, inplace=True)"
      ]
    },
    {
      "cell_type": "code",
      "execution_count": null,
      "id": "17cc9a04",
      "metadata": {
        "id": "17cc9a04"
      },
      "outputs": [],
      "source": [
        "# Binarizing remaining categorical variables\n",
        "df_binarized = pd.get_dummies(df)"
      ]
    },
    {
      "cell_type": "code",
      "execution_count": null,
      "id": "afc7a9aa-fd57-4a2e-a955-404866939c44",
      "metadata": {
        "id": "afc7a9aa-fd57-4a2e-a955-404866939c44"
      },
      "outputs": [],
      "source": [
        "# Filling null values for grad with 1 - most frequent value in the column\n",
        "df_binarized['grad'] = df_binarized['grad'].fillna(1)"
      ]
    },
    {
      "cell_type": "code",
      "execution_count": null,
      "id": "ef34b734-e72f-4cc1-b02e-fd2c6a51d838",
      "metadata": {
        "id": "ef34b734-e72f-4cc1-b02e-fd2c6a51d838"
      },
      "outputs": [],
      "source": [
        "# Filling null values for fulltime with 1 - most frequent value in the column\n",
        "df_binarized['fulltime'] = df_binarized['fulltime'].fillna(1)"
      ]
    },
    {
      "cell_type": "code",
      "execution_count": null,
      "id": "134f8b69-4d74-4bf5-bde8-c7539a5e9a28",
      "metadata": {
        "id": "134f8b69-4d74-4bf5-bde8-c7539a5e9a28"
      },
      "outputs": [],
      "source": [
        "# Filling null values for fam_inc with 4 - most frequent value in the column\n",
        "df_binarized['fam_inc'] = df_binarized['fam_inc'].fillna(4)"
      ]
    },
    {
      "cell_type": "code",
      "execution_count": null,
      "id": "4cb26a2b-4c8f-48bd-94ec-8b069ee45199",
      "metadata": {
        "id": "4cb26a2b-4c8f-48bd-94ec-8b069ee45199"
      },
      "outputs": [],
      "source": [
        "# Filling null values for tier with 3 - most frequent value in the column\n",
        "df_binarized['tier'] = df_binarized['tier'].fillna(3)"
      ]
    },
    {
      "cell_type": "code",
      "execution_count": null,
      "id": "fe199240-253e-43b1-a335-142cc15321ba",
      "metadata": {
        "id": "fe199240-253e-43b1-a335-142cc15321ba"
      },
      "outputs": [],
      "source": [
        "# Filling null values for decile3 and decile1 with the mean column value\n",
        "#df_binarized['decile3'] = df_binarized['decile3'].fillna(df_binarized['decile1'].mean())\n",
        "#df_binarized['decile1'] = df_binarized['decile1'].fillna(df_binarized['decile1'].mean())"
      ]
    },
    {
      "cell_type": "markdown",
      "id": "06266baf-e9a1-4bed-b1d2-702e446a47bd",
      "metadata": {
        "id": "06266baf-e9a1-4bed-b1d2-702e446a47bd"
      },
      "source": [
        "A better way to impute the decile values is by predicting them the way we would a target variable and using those predictions to fill the NANs. I used GridSearchCV to perform hyperparameter optimization. The optimal model to impute the values for both deciles was a GradientBoostingRegressor, so for efficiency, I only included the code for it below. The only parameter that changes between the two was max_features. This technique could also be expanded to all other features."
      ]
    },
    {
      "cell_type": "code",
      "execution_count": null,
      "id": "b3ab28cb-8517-486e-aeca-9787e40e984d",
      "metadata": {
        "id": "b3ab28cb-8517-486e-aeca-9787e40e984d"
      },
      "outputs": [],
      "source": [
        "# Decile 3 Imputation\n",
        "\n",
        "train_data = df_binarized[df_binarized['decile3'].notnull()]\n",
        "test_data = df_binarized[df_binarized['decile3'].isnull()]\n",
        "features = train_data.columns.drop(['decile1', 'decile3'])\n",
        "\n",
        "X_train = train_data[features]\n",
        "y_train = train_data['decile3']\n",
        "\n",
        "model = GradientBoostingRegressor(learning_rate = 0.1, max_depth = 4, max_features = 'sqrt', n_estimators = 100, random_state = 3)\n",
        "model.fit(X_train, y_train)\n",
        "\n",
        "X_test = test_data[features]\n",
        "predicted_decile3 = model.predict(X_test)\n",
        "df_binarized.loc[df_binarized['decile3'].isnull(), 'decile3'] = predicted_decile3\n",
        "df_binarized['decile3'] = df_binarized['decile3'].astype(float)"
      ]
    },
    {
      "cell_type": "code",
      "execution_count": null,
      "id": "1ecf02ff-cb5f-40b2-8286-3a7ef3b40079",
      "metadata": {
        "id": "1ecf02ff-cb5f-40b2-8286-3a7ef3b40079"
      },
      "outputs": [],
      "source": [
        "# Decile 1 Imputation\n",
        "\n",
        "train_data = df_binarized[df_binarized['decile1'].notnull()]\n",
        "test_data = df_binarized[df_binarized['decile1'].isnull()]\n",
        "features = train_data.columns.drop(['decile1', 'decile3'])\n",
        "\n",
        "X_train = train_data[features]\n",
        "y_train = train_data['decile1']\n",
        "\n",
        "model = GradientBoostingRegressor(learning_rate = 0.1, max_depth = 4, max_features = 0.7, n_estimators = 100, random_state = 3)\n",
        "model.fit(X_train, y_train)\n",
        "\n",
        "X_test = test_data[features]\n",
        "predicted_decile3 = model.predict(X_test)\n",
        "df_binarized.loc[df_binarized['decile1'].isnull(), 'decile1'] = predicted_decile3\n",
        "df_binarized['decile1'] = df_binarized['decile1'].astype(float)"
      ]
    },
    {
      "cell_type": "code",
      "execution_count": null,
      "id": "42d71487-6e45-4b79-ab0d-32aff291624b",
      "metadata": {
        "colab": {
          "base_uri": "https://localhost:8080/"
        },
        "id": "42d71487-6e45-4b79-ab0d-32aff291624b",
        "outputId": "2370c81b-55b5-49e7-8b72-9632b63862eb"
      },
      "outputs": [
        {
          "output_type": "execute_result",
          "data": {
            "text/plain": [
              "decile3        0\n",
              "decile1        0\n",
              "lsat           0\n",
              "ugpa           0\n",
              "grad           0\n",
              "fulltime       0\n",
              "fam_inc        0\n",
              "gender         0\n",
              "bar_passed     0\n",
              "tier           0\n",
              "indxgrp        0\n",
              "indxgrp2       0\n",
              "race1_asian    0\n",
              "race1_black    0\n",
              "race1_hisp     0\n",
              "race1_other    0\n",
              "race1_white    0\n",
              "dtype: int64"
            ]
          },
          "metadata": {},
          "execution_count": 22
        }
      ],
      "source": [
        "# Checking the distribution of null values.\n",
        "df_binarized.isnull().sum()"
      ]
    },
    {
      "cell_type": "code",
      "execution_count": null,
      "id": "8f8fe69d-1365-4cc3-b049-a30ae0e89221",
      "metadata": {
        "id": "8f8fe69d-1365-4cc3-b049-a30ae0e89221"
      },
      "outputs": [],
      "source": [
        "# Changing all numerical columns except for UGPA to be integers\n",
        "df_binarized[['decile3', 'decile1','lsat', 'grad', 'fulltime', 'fam_inc', 'tier']] = df_binarized[['decile3', 'decile1','lsat', 'grad',\n",
        "                                                                                                   'fulltime','fam_inc', 'tier']].astype(int)"
      ]
    },
    {
      "cell_type": "code",
      "execution_count": null,
      "id": "7c52072a",
      "metadata": {
        "colab": {
          "base_uri": "https://localhost:8080/",
          "height": 221
        },
        "id": "7c52072a",
        "outputId": "6b1d5ac6-3fb2-481b-bae7-65667b2da25c"
      },
      "outputs": [
        {
          "output_type": "execute_result",
          "data": {
            "text/plain": [
              "   decile3  decile1  lsat  ugpa  grad  fulltime  fam_inc  gender  bar_passed  \\\n",
              "0       10       10    44   3.5     1         1        5       0        True   \n",
              "1        4        5    29   3.5     1         1        4       0        True   \n",
              "2        2        3    36   3.5     1         1        1       1        True   \n",
              "3        4        7    39   3.5     1         1        4       1        True   \n",
              "4        8        9    48   3.5     1         1        4       1        True   \n",
              "\n",
              "   tier  indxgrp  indxgrp2  race1_asian  race1_black  race1_hisp  race1_other  \\\n",
              "0     4        7         9        False        False       False        False   \n",
              "1     2        6         6        False        False       False        False   \n",
              "2     3        7         8        False        False       False        False   \n",
              "3     3        7         8        False        False       False        False   \n",
              "4     5        7         9        False        False       False        False   \n",
              "\n",
              "   race1_white  \n",
              "0         True  \n",
              "1         True  \n",
              "2         True  \n",
              "3         True  \n",
              "4         True  "
            ],
            "text/html": [
              "\n",
              "  <div id=\"df-4cba5d4e-d22b-4be7-b9ae-be1576f7b29f\" class=\"colab-df-container\">\n",
              "    <div>\n",
              "<style scoped>\n",
              "    .dataframe tbody tr th:only-of-type {\n",
              "        vertical-align: middle;\n",
              "    }\n",
              "\n",
              "    .dataframe tbody tr th {\n",
              "        vertical-align: top;\n",
              "    }\n",
              "\n",
              "    .dataframe thead th {\n",
              "        text-align: right;\n",
              "    }\n",
              "</style>\n",
              "<table border=\"1\" class=\"dataframe\">\n",
              "  <thead>\n",
              "    <tr style=\"text-align: right;\">\n",
              "      <th></th>\n",
              "      <th>decile3</th>\n",
              "      <th>decile1</th>\n",
              "      <th>lsat</th>\n",
              "      <th>ugpa</th>\n",
              "      <th>grad</th>\n",
              "      <th>fulltime</th>\n",
              "      <th>fam_inc</th>\n",
              "      <th>gender</th>\n",
              "      <th>bar_passed</th>\n",
              "      <th>tier</th>\n",
              "      <th>indxgrp</th>\n",
              "      <th>indxgrp2</th>\n",
              "      <th>race1_asian</th>\n",
              "      <th>race1_black</th>\n",
              "      <th>race1_hisp</th>\n",
              "      <th>race1_other</th>\n",
              "      <th>race1_white</th>\n",
              "    </tr>\n",
              "  </thead>\n",
              "  <tbody>\n",
              "    <tr>\n",
              "      <th>0</th>\n",
              "      <td>10</td>\n",
              "      <td>10</td>\n",
              "      <td>44</td>\n",
              "      <td>3.5</td>\n",
              "      <td>1</td>\n",
              "      <td>1</td>\n",
              "      <td>5</td>\n",
              "      <td>0</td>\n",
              "      <td>True</td>\n",
              "      <td>4</td>\n",
              "      <td>7</td>\n",
              "      <td>9</td>\n",
              "      <td>False</td>\n",
              "      <td>False</td>\n",
              "      <td>False</td>\n",
              "      <td>False</td>\n",
              "      <td>True</td>\n",
              "    </tr>\n",
              "    <tr>\n",
              "      <th>1</th>\n",
              "      <td>4</td>\n",
              "      <td>5</td>\n",
              "      <td>29</td>\n",
              "      <td>3.5</td>\n",
              "      <td>1</td>\n",
              "      <td>1</td>\n",
              "      <td>4</td>\n",
              "      <td>0</td>\n",
              "      <td>True</td>\n",
              "      <td>2</td>\n",
              "      <td>6</td>\n",
              "      <td>6</td>\n",
              "      <td>False</td>\n",
              "      <td>False</td>\n",
              "      <td>False</td>\n",
              "      <td>False</td>\n",
              "      <td>True</td>\n",
              "    </tr>\n",
              "    <tr>\n",
              "      <th>2</th>\n",
              "      <td>2</td>\n",
              "      <td>3</td>\n",
              "      <td>36</td>\n",
              "      <td>3.5</td>\n",
              "      <td>1</td>\n",
              "      <td>1</td>\n",
              "      <td>1</td>\n",
              "      <td>1</td>\n",
              "      <td>True</td>\n",
              "      <td>3</td>\n",
              "      <td>7</td>\n",
              "      <td>8</td>\n",
              "      <td>False</td>\n",
              "      <td>False</td>\n",
              "      <td>False</td>\n",
              "      <td>False</td>\n",
              "      <td>True</td>\n",
              "    </tr>\n",
              "    <tr>\n",
              "      <th>3</th>\n",
              "      <td>4</td>\n",
              "      <td>7</td>\n",
              "      <td>39</td>\n",
              "      <td>3.5</td>\n",
              "      <td>1</td>\n",
              "      <td>1</td>\n",
              "      <td>4</td>\n",
              "      <td>1</td>\n",
              "      <td>True</td>\n",
              "      <td>3</td>\n",
              "      <td>7</td>\n",
              "      <td>8</td>\n",
              "      <td>False</td>\n",
              "      <td>False</td>\n",
              "      <td>False</td>\n",
              "      <td>False</td>\n",
              "      <td>True</td>\n",
              "    </tr>\n",
              "    <tr>\n",
              "      <th>4</th>\n",
              "      <td>8</td>\n",
              "      <td>9</td>\n",
              "      <td>48</td>\n",
              "      <td>3.5</td>\n",
              "      <td>1</td>\n",
              "      <td>1</td>\n",
              "      <td>4</td>\n",
              "      <td>1</td>\n",
              "      <td>True</td>\n",
              "      <td>5</td>\n",
              "      <td>7</td>\n",
              "      <td>9</td>\n",
              "      <td>False</td>\n",
              "      <td>False</td>\n",
              "      <td>False</td>\n",
              "      <td>False</td>\n",
              "      <td>True</td>\n",
              "    </tr>\n",
              "  </tbody>\n",
              "</table>\n",
              "</div>\n",
              "    <div class=\"colab-df-buttons\">\n",
              "\n",
              "  <div class=\"colab-df-container\">\n",
              "    <button class=\"colab-df-convert\" onclick=\"convertToInteractive('df-4cba5d4e-d22b-4be7-b9ae-be1576f7b29f')\"\n",
              "            title=\"Convert this dataframe to an interactive table.\"\n",
              "            style=\"display:none;\">\n",
              "\n",
              "  <svg xmlns=\"http://www.w3.org/2000/svg\" height=\"24px\" viewBox=\"0 -960 960 960\">\n",
              "    <path d=\"M120-120v-720h720v720H120Zm60-500h600v-160H180v160Zm220 220h160v-160H400v160Zm0 220h160v-160H400v160ZM180-400h160v-160H180v160Zm440 0h160v-160H620v160ZM180-180h160v-160H180v160Zm440 0h160v-160H620v160Z\"/>\n",
              "  </svg>\n",
              "    </button>\n",
              "\n",
              "  <style>\n",
              "    .colab-df-container {\n",
              "      display:flex;\n",
              "      gap: 12px;\n",
              "    }\n",
              "\n",
              "    .colab-df-convert {\n",
              "      background-color: #E8F0FE;\n",
              "      border: none;\n",
              "      border-radius: 50%;\n",
              "      cursor: pointer;\n",
              "      display: none;\n",
              "      fill: #1967D2;\n",
              "      height: 32px;\n",
              "      padding: 0 0 0 0;\n",
              "      width: 32px;\n",
              "    }\n",
              "\n",
              "    .colab-df-convert:hover {\n",
              "      background-color: #E2EBFA;\n",
              "      box-shadow: 0px 1px 2px rgba(60, 64, 67, 0.3), 0px 1px 3px 1px rgba(60, 64, 67, 0.15);\n",
              "      fill: #174EA6;\n",
              "    }\n",
              "\n",
              "    .colab-df-buttons div {\n",
              "      margin-bottom: 4px;\n",
              "    }\n",
              "\n",
              "    [theme=dark] .colab-df-convert {\n",
              "      background-color: #3B4455;\n",
              "      fill: #D2E3FC;\n",
              "    }\n",
              "\n",
              "    [theme=dark] .colab-df-convert:hover {\n",
              "      background-color: #434B5C;\n",
              "      box-shadow: 0px 1px 3px 1px rgba(0, 0, 0, 0.15);\n",
              "      filter: drop-shadow(0px 1px 2px rgba(0, 0, 0, 0.3));\n",
              "      fill: #FFFFFF;\n",
              "    }\n",
              "  </style>\n",
              "\n",
              "    <script>\n",
              "      const buttonEl =\n",
              "        document.querySelector('#df-4cba5d4e-d22b-4be7-b9ae-be1576f7b29f button.colab-df-convert');\n",
              "      buttonEl.style.display =\n",
              "        google.colab.kernel.accessAllowed ? 'block' : 'none';\n",
              "\n",
              "      async function convertToInteractive(key) {\n",
              "        const element = document.querySelector('#df-4cba5d4e-d22b-4be7-b9ae-be1576f7b29f');\n",
              "        const dataTable =\n",
              "          await google.colab.kernel.invokeFunction('convertToInteractive',\n",
              "                                                    [key], {});\n",
              "        if (!dataTable) return;\n",
              "\n",
              "        const docLinkHtml = 'Like what you see? Visit the ' +\n",
              "          '<a target=\"_blank\" href=https://colab.research.google.com/notebooks/data_table.ipynb>data table notebook</a>'\n",
              "          + ' to learn more about interactive tables.';\n",
              "        element.innerHTML = '';\n",
              "        dataTable['output_type'] = 'display_data';\n",
              "        await google.colab.output.renderOutput(dataTable, element);\n",
              "        const docLink = document.createElement('div');\n",
              "        docLink.innerHTML = docLinkHtml;\n",
              "        element.appendChild(docLink);\n",
              "      }\n",
              "    </script>\n",
              "  </div>\n",
              "\n",
              "\n",
              "<div id=\"df-418d188f-766a-4e43-af08-dc27e896a24b\">\n",
              "  <button class=\"colab-df-quickchart\" onclick=\"quickchart('df-418d188f-766a-4e43-af08-dc27e896a24b')\"\n",
              "            title=\"Suggest charts\"\n",
              "            style=\"display:none;\">\n",
              "\n",
              "<svg xmlns=\"http://www.w3.org/2000/svg\" height=\"24px\"viewBox=\"0 0 24 24\"\n",
              "     width=\"24px\">\n",
              "    <g>\n",
              "        <path d=\"M19 3H5c-1.1 0-2 .9-2 2v14c0 1.1.9 2 2 2h14c1.1 0 2-.9 2-2V5c0-1.1-.9-2-2-2zM9 17H7v-7h2v7zm4 0h-2V7h2v10zm4 0h-2v-4h2v4z\"/>\n",
              "    </g>\n",
              "</svg>\n",
              "  </button>\n",
              "\n",
              "<style>\n",
              "  .colab-df-quickchart {\n",
              "      --bg-color: #E8F0FE;\n",
              "      --fill-color: #1967D2;\n",
              "      --hover-bg-color: #E2EBFA;\n",
              "      --hover-fill-color: #174EA6;\n",
              "      --disabled-fill-color: #AAA;\n",
              "      --disabled-bg-color: #DDD;\n",
              "  }\n",
              "\n",
              "  [theme=dark] .colab-df-quickchart {\n",
              "      --bg-color: #3B4455;\n",
              "      --fill-color: #D2E3FC;\n",
              "      --hover-bg-color: #434B5C;\n",
              "      --hover-fill-color: #FFFFFF;\n",
              "      --disabled-bg-color: #3B4455;\n",
              "      --disabled-fill-color: #666;\n",
              "  }\n",
              "\n",
              "  .colab-df-quickchart {\n",
              "    background-color: var(--bg-color);\n",
              "    border: none;\n",
              "    border-radius: 50%;\n",
              "    cursor: pointer;\n",
              "    display: none;\n",
              "    fill: var(--fill-color);\n",
              "    height: 32px;\n",
              "    padding: 0;\n",
              "    width: 32px;\n",
              "  }\n",
              "\n",
              "  .colab-df-quickchart:hover {\n",
              "    background-color: var(--hover-bg-color);\n",
              "    box-shadow: 0 1px 2px rgba(60, 64, 67, 0.3), 0 1px 3px 1px rgba(60, 64, 67, 0.15);\n",
              "    fill: var(--button-hover-fill-color);\n",
              "  }\n",
              "\n",
              "  .colab-df-quickchart-complete:disabled,\n",
              "  .colab-df-quickchart-complete:disabled:hover {\n",
              "    background-color: var(--disabled-bg-color);\n",
              "    fill: var(--disabled-fill-color);\n",
              "    box-shadow: none;\n",
              "  }\n",
              "\n",
              "  .colab-df-spinner {\n",
              "    border: 2px solid var(--fill-color);\n",
              "    border-color: transparent;\n",
              "    border-bottom-color: var(--fill-color);\n",
              "    animation:\n",
              "      spin 1s steps(1) infinite;\n",
              "  }\n",
              "\n",
              "  @keyframes spin {\n",
              "    0% {\n",
              "      border-color: transparent;\n",
              "      border-bottom-color: var(--fill-color);\n",
              "      border-left-color: var(--fill-color);\n",
              "    }\n",
              "    20% {\n",
              "      border-color: transparent;\n",
              "      border-left-color: var(--fill-color);\n",
              "      border-top-color: var(--fill-color);\n",
              "    }\n",
              "    30% {\n",
              "      border-color: transparent;\n",
              "      border-left-color: var(--fill-color);\n",
              "      border-top-color: var(--fill-color);\n",
              "      border-right-color: var(--fill-color);\n",
              "    }\n",
              "    40% {\n",
              "      border-color: transparent;\n",
              "      border-right-color: var(--fill-color);\n",
              "      border-top-color: var(--fill-color);\n",
              "    }\n",
              "    60% {\n",
              "      border-color: transparent;\n",
              "      border-right-color: var(--fill-color);\n",
              "    }\n",
              "    80% {\n",
              "      border-color: transparent;\n",
              "      border-right-color: var(--fill-color);\n",
              "      border-bottom-color: var(--fill-color);\n",
              "    }\n",
              "    90% {\n",
              "      border-color: transparent;\n",
              "      border-bottom-color: var(--fill-color);\n",
              "    }\n",
              "  }\n",
              "</style>\n",
              "\n",
              "  <script>\n",
              "    async function quickchart(key) {\n",
              "      const quickchartButtonEl =\n",
              "        document.querySelector('#' + key + ' button');\n",
              "      quickchartButtonEl.disabled = true;  // To prevent multiple clicks.\n",
              "      quickchartButtonEl.classList.add('colab-df-spinner');\n",
              "      try {\n",
              "        const charts = await google.colab.kernel.invokeFunction(\n",
              "            'suggestCharts', [key], {});\n",
              "      } catch (error) {\n",
              "        console.error('Error during call to suggestCharts:', error);\n",
              "      }\n",
              "      quickchartButtonEl.classList.remove('colab-df-spinner');\n",
              "      quickchartButtonEl.classList.add('colab-df-quickchart-complete');\n",
              "    }\n",
              "    (() => {\n",
              "      let quickchartButtonEl =\n",
              "        document.querySelector('#df-418d188f-766a-4e43-af08-dc27e896a24b button');\n",
              "      quickchartButtonEl.style.display =\n",
              "        google.colab.kernel.accessAllowed ? 'block' : 'none';\n",
              "    })();\n",
              "  </script>\n",
              "</div>\n",
              "    </div>\n",
              "  </div>\n"
            ],
            "application/vnd.google.colaboratory.intrinsic+json": {
              "type": "dataframe",
              "variable_name": "df_binarized",
              "summary": "{\n  \"name\": \"df_binarized\",\n  \"rows\": 22407,\n  \"fields\": [\n    {\n      \"column\": \"decile3\",\n      \"properties\": {\n        \"dtype\": \"number\",\n        \"std\": 2,\n        \"min\": 0,\n        \"max\": 10,\n        \"num_unique_values\": 11,\n        \"samples\": [\n          7,\n          10,\n          9\n        ],\n        \"semantic_type\": \"\",\n        \"description\": \"\"\n      }\n    },\n    {\n      \"column\": \"decile1\",\n      \"properties\": {\n        \"dtype\": \"number\",\n        \"std\": 2,\n        \"min\": 0,\n        \"max\": 10,\n        \"num_unique_values\": 11,\n        \"samples\": [\n          4,\n          10,\n          2\n        ],\n        \"semantic_type\": \"\",\n        \"description\": \"\"\n      }\n    },\n    {\n      \"column\": \"lsat\",\n      \"properties\": {\n        \"dtype\": \"number\",\n        \"std\": 5,\n        \"min\": 11,\n        \"max\": 48,\n        \"num_unique_values\": 38,\n        \"samples\": [\n          14,\n          13,\n          48\n        ],\n        \"semantic_type\": \"\",\n        \"description\": \"\"\n      }\n    },\n    {\n      \"column\": \"ugpa\",\n      \"properties\": {\n        \"dtype\": \"number\",\n        \"std\": 0.4040725369828622,\n        \"min\": 1.5,\n        \"max\": 3.9,\n        \"num_unique_values\": 25,\n        \"samples\": [\n          2.8,\n          2.5,\n          3.5\n        ],\n        \"semantic_type\": \"\",\n        \"description\": \"\"\n      }\n    },\n    {\n      \"column\": \"grad\",\n      \"properties\": {\n        \"dtype\": \"number\",\n        \"std\": 0,\n        \"min\": 0,\n        \"max\": 1,\n        \"num_unique_values\": 2,\n        \"samples\": [\n          0,\n          1\n        ],\n        \"semantic_type\": \"\",\n        \"description\": \"\"\n      }\n    },\n    {\n      \"column\": \"fulltime\",\n      \"properties\": {\n        \"dtype\": \"number\",\n        \"std\": 0,\n        \"min\": 1,\n        \"max\": 2,\n        \"num_unique_values\": 2,\n        \"samples\": [\n          2,\n          1\n        ],\n        \"semantic_type\": \"\",\n        \"description\": \"\"\n      }\n    },\n    {\n      \"column\": \"fam_inc\",\n      \"properties\": {\n        \"dtype\": \"number\",\n        \"std\": 0,\n        \"min\": 1,\n        \"max\": 5,\n        \"num_unique_values\": 5,\n        \"samples\": [\n          4,\n          2\n        ],\n        \"semantic_type\": \"\",\n        \"description\": \"\"\n      }\n    },\n    {\n      \"column\": \"gender\",\n      \"properties\": {\n        \"dtype\": \"number\",\n        \"std\": 0,\n        \"min\": 0,\n        \"max\": 1,\n        \"num_unique_values\": 2,\n        \"samples\": [\n          1,\n          0\n        ],\n        \"semantic_type\": \"\",\n        \"description\": \"\"\n      }\n    },\n    {\n      \"column\": \"bar_passed\",\n      \"properties\": {\n        \"dtype\": \"boolean\",\n        \"num_unique_values\": 2,\n        \"samples\": [\n          false,\n          true\n        ],\n        \"semantic_type\": \"\",\n        \"description\": \"\"\n      }\n    },\n    {\n      \"column\": \"tier\",\n      \"properties\": {\n        \"dtype\": \"number\",\n        \"std\": 1,\n        \"min\": 1,\n        \"max\": 6,\n        \"num_unique_values\": 6,\n        \"samples\": [\n          4,\n          2\n        ],\n        \"semantic_type\": \"\",\n        \"description\": \"\"\n      }\n    },\n    {\n      \"column\": \"indxgrp\",\n      \"properties\": {\n        \"dtype\": \"number\",\n        \"std\": 1,\n        \"min\": 1,\n        \"max\": 7,\n        \"num_unique_values\": 7,\n        \"samples\": [\n          7,\n          6\n        ],\n        \"semantic_type\": \"\",\n        \"description\": \"\"\n      }\n    },\n    {\n      \"column\": \"indxgrp2\",\n      \"properties\": {\n        \"dtype\": \"number\",\n        \"std\": 1,\n        \"min\": 1,\n        \"max\": 9,\n        \"num_unique_values\": 9,\n        \"samples\": [\n          2,\n          6\n        ],\n        \"semantic_type\": \"\",\n        \"description\": \"\"\n      }\n    },\n    {\n      \"column\": \"race1_asian\",\n      \"properties\": {\n        \"dtype\": \"boolean\",\n        \"num_unique_values\": 2,\n        \"samples\": [\n          true,\n          false\n        ],\n        \"semantic_type\": \"\",\n        \"description\": \"\"\n      }\n    },\n    {\n      \"column\": \"race1_black\",\n      \"properties\": {\n        \"dtype\": \"boolean\",\n        \"num_unique_values\": 2,\n        \"samples\": [\n          true,\n          false\n        ],\n        \"semantic_type\": \"\",\n        \"description\": \"\"\n      }\n    },\n    {\n      \"column\": \"race1_hisp\",\n      \"properties\": {\n        \"dtype\": \"boolean\",\n        \"num_unique_values\": 2,\n        \"samples\": [\n          true,\n          false\n        ],\n        \"semantic_type\": \"\",\n        \"description\": \"\"\n      }\n    },\n    {\n      \"column\": \"race1_other\",\n      \"properties\": {\n        \"dtype\": \"boolean\",\n        \"num_unique_values\": 2,\n        \"samples\": [\n          true,\n          false\n        ],\n        \"semantic_type\": \"\",\n        \"description\": \"\"\n      }\n    },\n    {\n      \"column\": \"race1_white\",\n      \"properties\": {\n        \"dtype\": \"boolean\",\n        \"num_unique_values\": 2,\n        \"samples\": [\n          false,\n          true\n        ],\n        \"semantic_type\": \"\",\n        \"description\": \"\"\n      }\n    }\n  ]\n}"
            }
          },
          "metadata": {},
          "execution_count": 24
        }
      ],
      "source": [
        "df_binarized.head()"
      ]
    },
    {
      "cell_type": "markdown",
      "id": "c63f9276-882d-4e49-8f1c-2c208bb64e85",
      "metadata": {
        "id": "c63f9276-882d-4e49-8f1c-2c208bb64e85"
      },
      "source": [
        "Our data is now ready for modeling! I believe gender and the variations of race1 are our sensitive attributes."
      ]
    },
    {
      "cell_type": "markdown",
      "id": "6554ef68-538b-4ba2-affa-8815aa6aa90f",
      "metadata": {
        "id": "6554ef68-538b-4ba2-affa-8815aa6aa90f"
      },
      "source": [
        "# Modeling and Auditing"
      ]
    },
    {
      "cell_type": "markdown",
      "id": "5ff2623a-8514-4c0c-9310-37367416e352",
      "metadata": {
        "id": "5ff2623a-8514-4c0c-9310-37367416e352"
      },
      "source": [
        "## Analysis on Gender"
      ]
    },
    {
      "cell_type": "code",
      "execution_count": null,
      "id": "116fd201-41f7-44f9-9bb0-692ee5634726",
      "metadata": {
        "id": "116fd201-41f7-44f9-9bb0-692ee5634726"
      },
      "outputs": [],
      "source": [
        "# Splitting the training and testing set based on the group ratio and positive ratio for each group.\n",
        "# Credit - Yunyi Li\n",
        "def train_test_prepare(df, positive_rate_g0, positive_rate_g1, g0_ratio, train_ratio = 0.67, rnd_seed = 3):\n",
        "    '''\n",
        "    This function is splitting the dataset into training and testing.\n",
        "    At the same time, the splitting is stratified with regard to 1) the positive rates of each group and 2) the group ratio\n",
        "    '''\n",
        "    response = 'bar_passed'\n",
        "    sensitive = 'gender'\n",
        "    #atr = df.drop(columns=['bar_passed', 'gender']).columns.tolist()\n",
        "    atr = df.drop(columns=[response, sensitive]).columns.tolist()\n",
        "\n",
        "    train00 = df[(df[sensitive]==0)&(df[response]==0)].sample(n = int(len(df)*(train_ratio*g0_ratio*(1-positive_rate_g0))), random_state = rnd_seed)\n",
        "    train01 = df[(df[sensitive]==0)&(df[response]==1)].sample(n = int(len(df)*(train_ratio*g0_ratio*positive_rate_g0)), random_state = rnd_seed)\n",
        "    train10 = df[(df[sensitive]==1)&(df[response]==0)].sample(n = int(len(df)*(train_ratio*(1-g0_ratio)*(1-positive_rate_g1))), random_state = rnd_seed)\n",
        "    train11 = df[(df[sensitive]==1)&(df[response]==1)].sample(n = int(len(df)*(train_ratio*(1-g0_ratio)*positive_rate_g1)), random_state = rnd_seed)\n",
        "\n",
        "    train = pd.concat([train00, train01, train10, train11])\n",
        "    test  = df.drop(train.index)\n",
        "\n",
        "    print('train shape  =', train.shape)\n",
        "    print('train shape (g0) = ', train[train[sensitive]==0].shape)\n",
        "    print('train shape (g1) = ', train[train[sensitive]==1].shape)\n",
        "\n",
        "    print('test shape =', test.shape)\n",
        "    print('test shape (g0) = ', test[test[sensitive]==0].shape)\n",
        "    print('test shape (g1) = ', test[test[sensitive]==1].shape)\n",
        "\n",
        "    X = train[atr]\n",
        "    X_s = train[sensitive]\n",
        "    y = train[response]\n",
        "    Xt = test[atr]\n",
        "    Xt_s = test[sensitive]\n",
        "    yt = test[response]\n",
        "    return X, X_s, y, Xt, Xt_s, yt"
      ]
    },
    {
      "cell_type": "code",
      "execution_count": null,
      "id": "6f92ed49-7634-453e-b4fa-11a851c6a895",
      "metadata": {
        "colab": {
          "base_uri": "https://localhost:8080/"
        },
        "id": "6f92ed49-7634-453e-b4fa-11a851c6a895",
        "outputId": "f5558846-3988-4d3f-c463-4b8563cdfb95"
      },
      "outputs": [
        {
          "output_type": "stream",
          "name": "stdout",
          "text": [
            "The positive rate for group 0 (Women) is: 94.21%.\n",
            "The positive rate for group 1 (Men) is: 95.22%.\n",
            "43.85% entries in the dataset are Women.\n",
            "56.15% entries in the dataset are Men.\n"
          ]
        }
      ],
      "source": [
        "# Credit - Yunyi Li\n",
        "\n",
        "# Calculate the positive_rate_g0, positive_rate_g1, g0_ratio, and g1_ratio\n",
        "positive_rate_g0 = (sum(df_binarized['bar_passed'][df_binarized['gender'] == 0]) / len(df_binarized['bar_passed'][df_binarized['gender'] == 0]))\n",
        "positive_rate_g1 = (sum(df_binarized['bar_passed'][df_binarized['gender'] == 1]) / len(df_binarized['bar_passed'][df_binarized['gender'] == 1]))\n",
        "\n",
        "# Calculate the ratio of females (gender == 0) in the dataset\n",
        "g0_ratio = len(df_binarized[df_binarized['gender'] == 0]) / len(df_binarized)\n",
        "\n",
        "# Calculate the ratio of females (gender == 0) in the dataset\n",
        "g1_ratio = len(df_binarized[df_binarized['gender'] == 1]) / len(df_binarized)\n",
        "\n",
        "# Print the calculated metrics\n",
        "print('The positive rate for group 0 (Women) is: {:.2f}%.'.format(positive_rate_g0 * 100)) # How many women passed the par\n",
        "print('The positive rate for group 1 (Men) is: {:.2f}%.'.format(positive_rate_g1 * 100)) # How many men pass the bar\n",
        "print('{:.2f}% entries in the dataset are Women.'.format(g0_ratio * 100))\n",
        "print('{:.2f}% entries in the dataset are Men.'.format(g1_ratio * 100))"
      ]
    },
    {
      "cell_type": "code",
      "execution_count": null,
      "id": "8210cac7-e146-437c-a2d4-be6bb50e81e8",
      "metadata": {
        "colab": {
          "base_uri": "https://localhost:8080/"
        },
        "id": "8210cac7-e146-437c-a2d4-be6bb50e81e8",
        "outputId": "bf421f45-87d0-41af-c2ce-e9c00c23bc15"
      },
      "outputs": [
        {
          "output_type": "stream",
          "name": "stdout",
          "text": [
            "train shape  = (15011, 17)\n",
            "train shape (g0) =  (6583, 17)\n",
            "train shape (g1) =  (8428, 17)\n",
            "test shape = (7396, 17)\n",
            "test shape (g0) =  (3243, 17)\n",
            "test shape (g1) =  (4153, 17)\n"
          ]
        }
      ],
      "source": [
        "# Credit - Yunyi Li\n",
        "X_train, X_s_train, y_train, X_test, X_s_test, y_test = train_test_prepare(df_binarized, positive_rate_g0, positive_rate_g1, g0_ratio)\n",
        "# What is the use of X_s_train and X_s_test?"
      ]
    },
    {
      "cell_type": "code",
      "execution_count": null,
      "id": "3da6bba4-54ce-4709-a075-ca0cd655e486",
      "metadata": {
        "colab": {
          "base_uri": "https://localhost:8080/"
        },
        "id": "3da6bba4-54ce-4709-a075-ca0cd655e486",
        "outputId": "d7071e4b-92c7-49d2-f530-92f00fa63f60"
      },
      "outputs": [
        {
          "output_type": "stream",
          "name": "stdout",
          "text": [
            "Accuracy: 0.7789345592212007\n",
            "Test AUC: 0.8785780408577676\n",
            "Precision: 0.9880130766436614\n",
            "Recall: 0.7761449564845199\n"
          ]
        }
      ],
      "source": [
        "# Best Model as defined by Stratified K(10)-Fold GridSearchCV\n",
        "\n",
        "# ROC AUC and Average Precision Scoring with Class Weightage Modification\n",
        "#clf = GradientBoostingClassifier(learning_rate = 0.1, max_depth = 3, n_estimators = 100, random_state = 3)\n",
        "\n",
        "# Balanced Accuracy Scoring (no Stratification or Class Weightage)\n",
        "#clf = BaggingClassifier(estimator=DecisionTreeClassifier(random_state=3), random_state=3, n_estimators = 10)\n",
        "\n",
        "# Balanced Accuracy Scoring with Class Weightage Modification **\n",
        "clf = Pipeline([('scaler', StandardScaler()),('logistic', LogisticRegression(random_state = 3, max_iter = 1000, C = 0.01, class_weight = 'balanced'))])\n",
        "\n",
        "# F1 Scoring (no Stratification or Class Weightage)\n",
        "#clf = RandomForestClassifier(max_depth = 7, n_estimators = 100, random_state = 3)\n",
        "\n",
        "# F1 Scoring with Class Weightage Modification\n",
        "#clf = GradientBoostingClassifier(learning_rate = 0.01, max_depth = 7, n_estimators = 200, random_state = 3)\n",
        "\n",
        "clf.fit(X_train, y_train)\n",
        "\n",
        "y_hat = clf.predict(X_test)\n",
        "\n",
        "# Classification Accuracy on Test Data\n",
        "accuracy = accuracy_score(y_test, y_hat)\n",
        "print(f'Accuracy: {accuracy}')\n",
        "\n",
        "# Test AUC\n",
        "test_probs = clf.predict_proba(X_test)[:, 1]\n",
        "test_auc = roc_auc_score(y_test, test_probs)\n",
        "print(f'Test AUC: {test_auc}')\n",
        "\n",
        "# Precision for True Class; Proportion of students predicted to pass the bar who actually passed\n",
        "precision = precision_score(y_test, y_hat)\n",
        "print(f'Precision: {precision}')\n",
        "\n",
        "# Recall; How well the model identifies students who actually pass the bar\n",
        "recall = recall_score(y_test, y_hat)\n",
        "print(f'Recall: {recall}')"
      ]
    },
    {
      "cell_type": "code",
      "execution_count": null,
      "id": "8535d860-ae3c-4d7f-8dd1-22f2c284ae8d",
      "metadata": {
        "colab": {
          "base_uri": "https://localhost:8080/"
        },
        "id": "8535d860-ae3c-4d7f-8dd1-22f2c284ae8d",
        "outputId": "206c7b10-6977-4f1c-e43f-93bdf2a5d466"
      },
      "outputs": [
        {
          "output_type": "stream",
          "name": "stdout",
          "text": [
            "              precision    recall  f1-score   support\n",
            "\n",
            "       False       0.17      0.83      0.28       387\n",
            "        True       0.99      0.78      0.87      7009\n",
            "\n",
            "    accuracy                           0.78      7396\n",
            "   macro avg       0.58      0.80      0.58      7396\n",
            "weighted avg       0.95      0.78      0.84      7396\n",
            "\n"
          ]
        }
      ],
      "source": [
        "print(classification_report(y_test, y_hat))\n",
        "\n",
        "# Caveat: Dataset is imbalanced in terms of the target variable but is better balanced in terms of gender.\n",
        "    # This is shown by support. Despite having equal balance of male and female positive rate, we have 7009 records of people who passed the bar\n",
        "        # and 387 who did not in the testing data. The dataset for training is also imbalanced."
      ]
    },
    {
      "cell_type": "code",
      "execution_count": null,
      "id": "ca2f1ee9-0a1b-4c03-a17d-ffa0e742e8df",
      "metadata": {
        "colab": {
          "base_uri": "https://localhost:8080/"
        },
        "id": "ca2f1ee9-0a1b-4c03-a17d-ffa0e742e8df",
        "outputId": "78eaa348-c35c-4b9f-ebe4-01fb5314c2f9"
      },
      "outputs": [
        {
          "output_type": "stream",
          "name": "stdout",
          "text": [
            "The true positive rate for the whole dataset is:  0.78\n",
            "The false positive rate for the whole dataset is:  0.17\n",
            "The true negative rate for the whole dataset is:  0.83\n",
            "The false negative rate for the whole dataset is:  0.22\n"
          ]
        }
      ],
      "source": [
        "# Credit - Yunyi Li\n",
        "\n",
        "# Calculate the confusion matrix\n",
        "TPR = sum((y_hat == 1) & (y_test == 1))/sum(y_test == 1)\n",
        "print('The true positive rate for the whole dataset is: ', format(TPR, '.2f'))\n",
        "FPR = sum((y_hat == 1) & (y_test == 0)) / sum(y_test == 0)\n",
        "print('The false positive rate for the whole dataset is: ', format(FPR, '.2f'))\n",
        "TNR = sum((y_hat == 0) & (y_test == 0)) / sum(y_test == 0)\n",
        "print('The true negative rate for the whole dataset is: ', format(TNR, '.2f'))\n",
        "FNR = sum((y_hat == 0) & (y_test == 1)) / sum(y_test == 1)\n",
        "print('The false negative rate for the whole dataset is: ', format(FNR, '.2f'))"
      ]
    },
    {
      "cell_type": "code",
      "execution_count": null,
      "id": "d8f369e7-39cd-4441-b622-4deca1563f9f",
      "metadata": {
        "colab": {
          "base_uri": "https://localhost:8080/"
        },
        "id": "d8f369e7-39cd-4441-b622-4deca1563f9f",
        "outputId": "e7654bae-1ac8-4ef1-df49-4cb284455db3"
      },
      "outputs": [
        {
          "output_type": "stream",
          "name": "stdout",
          "text": [
            "The true positive rate for group 0 is:  0.78\n",
            "The true positive rate for group 1 is:  0.78\n",
            "The false positive rate for group 0 is:  0.18\n",
            "The false positive rate for group 1 is:  0.16\n",
            "The true negative rate for group 0 is: 0.82\n",
            "The true negative rate for group 1 is: 0.84\n",
            "The false negative rate for group 0 is: 0.22\n",
            "The false negative rate for group 1 is: 0.22\n"
          ]
        }
      ],
      "source": [
        "# Credit - Yunyi Li\n",
        "\n",
        "# Calculate the group specific confusion matrix\n",
        "TPR_g0 = sum((y_hat == 1) & (y_test == 1) & (X_s_test == 0))/sum((y_test == 1) & (X_s_test == 0))\n",
        "TPR_g1 = sum((y_hat == 1) & (y_test == 1) & (X_s_test == 1)) / sum((y_test == 1) & (X_s_test == 1))\n",
        "print('The true positive rate for group 0 is: ', format(TPR_g0, '.2f'))\n",
        "print('The true positive rate for group 1 is: ', format(TPR_g1, '.2f'))\n",
        "FPR_g0 = sum((y_hat == 1) & (y_test == 0) & (X_s_test == 0)) / sum((y_test == 0) & (X_s_test == 0))\n",
        "FPR_g1 = sum((y_hat == 1) & (y_test == 0) & (X_s_test == 1)) / sum((y_test == 0) & (X_s_test == 1))\n",
        "print('The false positive rate for group 0 is: ', format(FPR_g0, '.2f'))\n",
        "print('The false positive rate for group 1 is: ', format(FPR_g1, '.2f'))\n",
        "TNR_g0 = sum((y_hat == 0) & (y_test == 0) & (X_s_test == 0)) / sum((y_test == 0) & (X_s_test == 0))\n",
        "TNR_g1 = sum((y_hat == 0) & (y_test == 0) & (X_s_test == 1)) / sum((y_test == 0) & (X_s_test == 1))\n",
        "print('The true negative rate for group 0 is:', format(TNR_g0, '.2f'))\n",
        "print('The true negative rate for group 1 is:', format(TNR_g1, '.2f'))\n",
        "FNR_g0 = sum((y_hat == 0) & (y_test == 1) & (X_s_test == 0)) / sum((y_test == 1) & (X_s_test == 0))\n",
        "FNR_g1 = sum((y_hat == 0) & (y_test == 1) & (X_s_test == 1)) / sum((y_test == 1) & (X_s_test == 1))\n",
        "print('The false negative rate for group 0 is:', format(FNR_g0, '.2f'))\n",
        "print('The false negative rate for group 1 is:', format(FNR_g1, '.2f'))"
      ]
    },
    {
      "cell_type": "code",
      "execution_count": null,
      "id": "cd04d244-ea75-4f47-a328-1d32afb79c0b",
      "metadata": {
        "colab": {
          "base_uri": "https://localhost:8080/",
          "height": 460
        },
        "id": "cd04d244-ea75-4f47-a328-1d32afb79c0b",
        "outputId": "6357fb02-f89e-456f-ef23-955330db3f64"
      },
      "outputs": [
        {
          "output_type": "display_data",
          "data": {
            "text/plain": [
              "<Figure size 850x480 with 1 Axes>"
            ],
            "image/png": "[encoded data removed]"
          },
          "metadata": {}
        }
      ],
      "source": [
        "# Credit - Yunyi Li\n",
        "\n",
        "g0 = 'Women'\n",
        "g1 = 'Men'\n",
        "\n",
        "# Set the X position of Bars\n",
        "r1 = np.arange(4)\n",
        "barWidth = 0.25 # width of the bars\n",
        "r2 = [x + barWidth for x in r1]\n",
        "\n",
        "# Create Bars\n",
        "plt.rcParams[\"figure.figsize\"] = [8.5, 4.8]\n",
        "plt.bar(r1, [TPR_g0, FPR_g0, TNR_g0, FNR_g0], width = barWidth, color = '#ff6b6b', edgecolor = 'black', yerr=0, capsize=7, hatch='/', label=g0)\n",
        "plt.bar(r2, [TPR_g1, FPR_g1, TNR_g1, FNR_g1], width = barWidth, color = '#66d9e8', edgecolor = 'black', yerr=0, capsize=7, hatch='.', label=g1)\n",
        "\n",
        "# General Layout\n",
        "plt.ylim(0, 1)\n",
        "plt.xticks([r + barWidth for r in range(4)], ['TPRs', 'FPRs', 'TNRs', 'FNRs'])\n",
        "plt.ylabel('Rates', fontsize = 16)\n",
        "\n",
        "# Title and Legend\n",
        "plt.title('Detailed Distibution of Confusion Matrix Items', fontsize = 16, style='italic', loc='left')\n",
        "plt.yticks(fontsize=15, rotation=360)\n",
        "plt.xticks(fontsize=15, rotation=360)\n",
        "plt.legend(loc='best', fontsize = 16, fancybox=True, shadow=True, ncol= 1)\n",
        "\n",
        "# Show the Plot\n",
        "#plt.savefig('Bar_plot_CMs.pdf',bbox_inches = 'tight') #uncomment this if you want to save the plot as pdf, so it can be used as a high resolution plot\n",
        "plt.show()"
      ]
    },
    {
      "cell_type": "code",
      "execution_count": null,
      "id": "f0076719-4738-4f85-bd1d-033334172d84",
      "metadata": {
        "colab": {
          "base_uri": "https://localhost:8080/"
        },
        "id": "f0076719-4738-4f85-bd1d-033334172d84",
        "outputId": "8be8c067-b174-4163-a797-5b22e5194bfd"
      },
      "outputs": [
        {
          "output_type": "stream",
          "name": "stdout",
          "text": [
            "The violation of demographic parity is 0.00\n"
          ]
        }
      ],
      "source": [
        "# Credit - Yunyi Li\n",
        "\n",
        "# Demographic Parity Calculations\n",
        "positive_rate_g0 = (sum((y_hat == 1) & (X_s_test == 0)) / sum(X_s_test == 0))\n",
        "positive_rate_g1 = (sum((y_hat == 1) & (X_s_test == 1)) / sum(X_s_test == 1))\n",
        "DP_violat = abs(positive_rate_g0 - positive_rate_g1)\n",
        "print('The violation of demographic parity is', format(DP_violat, '.2f'))"
      ]
    },
    {
      "cell_type": "code",
      "execution_count": null,
      "id": "4eaeccd5-8ab1-4b1a-9ad9-45c9763b3c20",
      "metadata": {
        "colab": {
          "base_uri": "https://localhost:8080/"
        },
        "id": "4eaeccd5-8ab1-4b1a-9ad9-45c9763b3c20",
        "outputId": "7f474d44-2033-4aad-8a3f-37f558d8f0ee"
      },
      "outputs": [
        {
          "output_type": "stream",
          "name": "stdout",
          "text": [
            "The violation of equalized odds is -0.00\n"
          ]
        }
      ],
      "source": [
        "# Credit - Yunyi Li\n",
        "\n",
        "# Equalized Odds Calculations\n",
        "equal_odds_g0 = sum((y_hat == 1) & (X_s_test == 0) & (y_test == 1)) / sum((X_s_test == 0) & (y_test == 1))\n",
        "equal_odds_g1 = sum((y_hat == 1) & (X_s_test == 1) & (y_test == 1)) / sum((X_s_test == 1) & (y_test == 1))\n",
        "Equal_Odds_violat = equal_odds_g1 - equal_odds_g0\n",
        "print('The violation of equalized odds is', format(Equal_Odds_violat, '.2f'))"
      ]
    },
    {
      "cell_type": "code",
      "execution_count": null,
      "id": "992fbfce-c190-4eaf-bb2c-46c9f6045c1e",
      "metadata": {
        "colab": {
          "base_uri": "https://localhost:8080/"
        },
        "id": "992fbfce-c190-4eaf-bb2c-46c9f6045c1e",
        "outputId": "d759ebb2-0dca-4991-cdc6-ac1129c4d77b"
      },
      "outputs": [
        {
          "output_type": "stream",
          "name": "stdout",
          "text": [
            "The violation of predictive parity is 0.00\n"
          ]
        }
      ],
      "source": [
        "# Credit - Yunyi Li\n",
        "\n",
        "# Predictive Parity Calculations\n",
        "precision_g0 = sum((y_hat == 1) & (y_test == 1) & (X_s_test == 0)) / sum((y_hat == 1) & (X_s_test == 0))\n",
        "precision_g1 = sum((y_hat == 1) & (y_test == 1) & (X_s_test == 1)) / sum((y_hat == 1) & (X_s_test == 1))\n",
        "pred_parity_violat = abs(precision_g0 - precision_g1)\n",
        "print('The violation of predictive parity is', format(pred_parity_violat, '.2f'))"
      ]
    },
    {
      "cell_type": "code",
      "execution_count": null,
      "id": "e15b3455-16cb-4876-bb89-52023f64a91e",
      "metadata": {
        "colab": {
          "base_uri": "https://localhost:8080/",
          "height": 460
        },
        "id": "e15b3455-16cb-4876-bb89-52023f64a91e",
        "outputId": "ce96356e-e2ed-40aa-88c4-1e106e87967e"
      },
      "outputs": [
        {
          "output_type": "display_data",
          "data": {
            "text/plain": [
              "<Figure size 650x480 with 1 Axes>"
            ],
            "image/png": "[encoded data removed]"
          },
          "metadata": {}
        }
      ],
      "source": [
        "# Credit - Yunyi Li\n",
        "\n",
        "# Set the x position of bars\n",
        "r1 = np.arange(3)\n",
        "barWidth = 0.25 # width of the bars\n",
        "r2 = [x + barWidth for x in r1]\n",
        "\n",
        "# Create Bars\n",
        "plt.rcParams[\"figure.figsize\"] = [6.5, 4.8]\n",
        "plt.bar(r1, [positive_rate_g0, equal_odds_g0, precision_g0], width=barWidth, color='#ff6b6b', edgecolor='black', yerr=0, capsize=7, hatch='/', label=g0)\n",
        "plt.bar(r2, [positive_rate_g1, equal_odds_g1, precision_g1], width=barWidth, color='#66d9e8', edgecolor='black', yerr=0, capsize=7, hatch='.', label=g1)\n",
        "\n",
        "#  General Layout\n",
        "plt.ylim(0, 1)\n",
        "plt.xticks([r + barWidth for r in range(3)], ['Demog. Parity', 'Equal. Odds', 'Pred. Parity'])\n",
        "plt.ylabel('counts', fontsize = 16)\n",
        "\n",
        "# Title and Legend\n",
        "plt.title('Fairness Auditing', fontsize = 16, style='italic', loc='center')\n",
        "plt.yticks(fontsize=15, rotation=360)\n",
        "plt.xticks(fontsize=15, rotation=360)\n",
        "plt.legend(loc='best', bbox_to_anchor=(1, 0.5), fontsize = 16, fancybox=True, shadow=True, ncol= 1)\n",
        "\n",
        "# Show the Plot\n",
        "#plt.savefig('Bar_plot_Measures.pdf',bbox_inches = 'tight') #uncomment this if you want to save the plot as pdf, so it can be used as a high resolution plot\n",
        "plt.show()"
      ]
    },
    {
      "cell_type": "markdown",
      "id": "b84445bd-64be-4205-854c-c04e39e67d87",
      "metadata": {
        "id": "b84445bd-64be-4205-854c-c04e39e67d87"
      },
      "source": [
        "## Analysis on Race"
      ]
    },
    {
      "cell_type": "code",
      "execution_count": null,
      "id": "e893c9f8",
      "metadata": {
        "id": "e893c9f8"
      },
      "outputs": [],
      "source": [
        "def consolidate_race_for_stratification(df):\n",
        "    race_columns = ['race1_asian', 'race1_black', 'race1_hisp', 'race1_white', 'race1_other']\n",
        "    df['race_stratify'] = df[race_columns].idxmax(axis=1)\n",
        "    return df\n",
        "\n",
        "df_binarized = consolidate_race_for_stratification(df_binarized)"
      ]
    },
    {
      "cell_type": "code",
      "execution_count": null,
      "id": "49b476ec",
      "metadata": {
        "id": "49b476ec"
      },
      "outputs": [],
      "source": [
        "def train_test_prepare(df, response='bar_passed', sensitive='race_stratify', train_ratio=0.67, rnd_seed=3):\n",
        "\n",
        "    atr = df.drop(columns=[response, sensitive] + ['race1_asian', 'race1_black', 'race1_hisp', 'race1_white', 'race1_other']).columns.tolist()\n",
        "\n",
        "    X_train, X_test, y_train, y_test = train_test_split(df[atr], df[[response, sensitive]],\n",
        "                                                        stratify=df[sensitive],\n",
        "                                                        test_size=1-train_ratio,\n",
        "                                                        random_state=rnd_seed)\n",
        "\n",
        "    X_s_train = y_train[sensitive]\n",
        "    X_s_test = y_test[sensitive]\n",
        "    y_train = y_train[response]\n",
        "    y_test = y_test[response]\n",
        "\n",
        "    return X_train, X_s_train, y_train, X_test, X_s_test, y_test\n",
        "\n",
        "X_train, X_s_train, y_train, X_test, X_s_test, y_test = train_test_prepare(df_binarized)"
      ]
    },
    {
      "cell_type": "code",
      "execution_count": null,
      "id": "65ff5610",
      "metadata": {
        "colab": {
          "base_uri": "https://localhost:8080/"
        },
        "id": "65ff5610",
        "outputId": "a81440c3-60d8-4495-f027-cbe4b42713fc"
      },
      "outputs": [
        {
          "output_type": "stream",
          "name": "stdout",
          "text": [
            "Accuracy: 0.7790398918187965\n",
            "Test AUC: 0.8763603202930236\n",
            "Precision: 0.9863982589771491\n",
            "Recall: 0.7772220634466991\n"
          ]
        }
      ],
      "source": [
        "# Best Model as defined by Stratified K(10)-Fold GridSearchCV\n",
        "\n",
        "# There is a clear tradeoff. ROC AUC or F1 Scoring results in a model with high FPRs across all groups but low violations.\n",
        "# The opposite is true for Balanced Accuracy Scoring and Average Precision Scoring.\n",
        "\n",
        "# ROC AUC Scoring with Class Weightage Modification\n",
        "#clf = GradientBoostingClassifier(learning_rate = 0.1, max_depth = 3, n_estimators = 100, random_state = 3)\n",
        "\n",
        "# Balanced Accuracy Scoring with Class Weightage Modification **\n",
        "clf = Pipeline([('scaler', StandardScaler()),('logistic', LogisticRegression(random_state = 3, max_iter = 1000, C = 1, class_weight = 'balanced'))])\n",
        "\n",
        "# F1 Scoring with Class Weightage Modification\n",
        "#clf = AdaBoostClassifier(algorithm= 'SAMME', n_estimators = 200, random_state = 3)\n",
        "\n",
        "# Average Precision with Class Weightage Modification\n",
        "#clf = Pipeline([('scaler', StandardScaler()),('logistic', LogisticRegression(random_state = 3, max_iter = 1000, C = 0.1, class_weight = 'balanced'))])\n",
        "\n",
        "clf.fit(X_train, y_train)\n",
        "\n",
        "y_hat = clf.predict(X_test)\n",
        "\n",
        "# Classification Accuracy on Test Data\n",
        "accuracy = accuracy_score(y_test, y_hat)\n",
        "print(f'Accuracy: {accuracy}')\n",
        "\n",
        "# Test AUC\n",
        "test_probs = clf.predict_proba(X_test)[:, 1]\n",
        "test_auc = roc_auc_score(y_test, test_probs)\n",
        "print(f'Test AUC: {test_auc}')\n",
        "\n",
        "# Precision for True Class; Proportion of students predicted to pass the bar who actually passed\n",
        "precision = precision_score(y_test, y_hat)\n",
        "print(f'Precision: {precision}')\n",
        "\n",
        "# Recall; How well the model identifies students who actually pass the bar\n",
        "recall = recall_score(y_test, y_hat)\n",
        "print(f'Recall: {recall}')"
      ]
    },
    {
      "cell_type": "code",
      "execution_count": null,
      "id": "c7a46a76",
      "metadata": {
        "colab": {
          "base_uri": "https://localhost:8080/"
        },
        "id": "c7a46a76",
        "outputId": "943f602d-3224-436b-c8c6-f1eca15d7751"
      },
      "outputs": [
        {
          "output_type": "stream",
          "name": "stdout",
          "text": [
            "Race: race1_white, TPR: 0.83, FPR: 0.27, TNR: 0.73, FNR: 0.17\n",
            "Race: race1_black, TPR: 0.26, FPR: 0.02, TNR: 0.98, FNR: 0.74\n",
            "Race: race1_other, TPR: 0.68, FPR: 0.00, TNR: 1.00, FNR: 0.32\n",
            "Race: race1_asian, TPR: 0.70, FPR: 0.17, TNR: 0.83, FNR: 0.30\n",
            "Race: race1_hisp, TPR: 0.51, FPR: 0.14, TNR: 0.86, FNR: 0.49\n"
          ]
        }
      ],
      "source": [
        "race_groups = X_s_test.unique()\n",
        "\n",
        "TPR_dict, FPR_dict, TNR_dict, FNR_dict = {}, {}, {}, {}\n",
        "\n",
        "for race in race_groups:\n",
        "    race_mask = (X_s_test == race)\n",
        "\n",
        "    TPR = np.sum((y_hat == 1) & (y_test == 1) & race_mask) / np.sum((y_test == 1) & race_mask)\n",
        "    FPR = np.sum((y_hat == 1) & (y_test == 0) & race_mask) / np.sum((y_test == 0) & race_mask)\n",
        "    TNR = np.sum((y_hat == 0) & (y_test == 0) & race_mask) / np.sum((y_test == 0) & race_mask)\n",
        "    FNR = np.sum((y_hat == 0) & (y_test == 1) & race_mask) / np.sum((y_test == 1) & race_mask)\n",
        "\n",
        "    TPR_dict[race], FPR_dict[race], TNR_dict[race], FNR_dict[race] = TPR, FPR, TNR, FNR\n",
        "\n",
        "    print(f'Race: {race}, TPR: {TPR:.2f}, FPR: {FPR:.2f}, TNR: {TNR:.2f}, FNR: {FNR:.2f}')"
      ]
    },
    {
      "cell_type": "code",
      "execution_count": null,
      "id": "dd8b4782",
      "metadata": {
        "colab": {
          "base_uri": "https://localhost:8080/",
          "height": 807
        },
        "id": "dd8b4782",
        "outputId": "10a05b76-0505-43f4-8b5d-9a880c507bfa"
      },
      "outputs": [
        {
          "output_type": "display_data",
          "data": {
            "text/plain": [
              "<Figure size 1200x800 with 1 Axes>"
            ],
            "image/png": "[encoded data removed]"
          },
          "metadata": {}
        }
      ],
      "source": [
        "race_labels = [race.replace('race1_', '') for race in race_groups]\n",
        "\n",
        "metrics = ['TPR', 'FPR', 'TNR', 'FNR']\n",
        "data = np.array([\n",
        "    [TPR_dict[race] for race in race_groups],\n",
        "    [FPR_dict[race] for race in race_groups],\n",
        "    [TNR_dict[race] for race in race_groups],\n",
        "    [FNR_dict[race] for race in race_groups],\n",
        "])\n",
        "\n",
        "num_groups = len(race_groups)\n",
        "num_metrics = len(metrics)\n",
        "bar_width = 0.15\n",
        "index = np.arange(num_groups)\n",
        "#colors = ['#ff6b6b', '#66d9e8', '#7dcea0', '#f7dc6f', '#c39bd3']\n",
        "colors = ['#7dcea0', '#f7dc6f', '#66d9e8', '#ff6b6b']\n",
        "\n",
        "plt.figure(figsize=[12, 8])\n",
        "\n",
        "bars = []\n",
        "\n",
        "for i, metric in enumerate(metrics):\n",
        "    bar = plt.bar(index + i * bar_width, data[i], bar_width, label=metric, color=colors[i])\n",
        "    bars.append(bar)\n",
        "\n",
        "plt.xticks(index + bar_width * (num_metrics-1) / 2, race_labels, rotation=45)\n",
        "plt.ylabel('Rates', fontsize=16)\n",
        "plt.title('Distribution of Confusion Matrix Items by Race Group', fontsize=16)\n",
        "\n",
        "for bar in bars:\n",
        "    for rect in bar:\n",
        "        height = rect.get_height()\n",
        "        plt.annotate(f'{height:.2f}',\n",
        "                     xy=(rect.get_x() + rect.get_width() / 2, height),\n",
        "                     xytext=(0, 3),\n",
        "                     textcoords=\"offset points\",\n",
        "                     ha='center', va='bottom')\n",
        "\n",
        "plt.legend(loc='best', fontsize=10)\n",
        "plt.tight_layout()\n",
        "\n",
        "plt.show()"
      ]
    },
    {
      "cell_type": "code",
      "execution_count": null,
      "id": "91e3b4de",
      "metadata": {
        "colab": {
          "base_uri": "https://localhost:8080/"
        },
        "id": "91e3b4de",
        "outputId": "65aebec9-c882-4dde-d74b-62e2cef226f6"
      },
      "outputs": [
        {
          "output_type": "stream",
          "name": "stdout",
          "text": [
            "\n",
            "Demographic Parity Pairwise Violations:\n",
            "race1_white vs race1_black: 0.60\n",
            "race1_white vs race1_other: 0.17\n",
            "race1_white vs race1_asian: 0.15\n",
            "race1_white vs race1_hisp: 0.33\n",
            "race1_black vs race1_other: 0.43\n",
            "race1_black vs race1_asian: 0.45\n",
            "race1_black vs race1_hisp: 0.26\n",
            "race1_other vs race1_asian: 0.02\n",
            "race1_other vs race1_hisp: 0.17\n",
            "race1_asian vs race1_hisp: 0.19\n",
            "\n",
            "Maximum Demographic Parity Violation is between race1_white vs race1_black, with a violation of 0.60\n",
            "\n",
            "Equalized Odds Pairwise Violations:\n",
            "race1_white vs race1_black: 0.57\n",
            "race1_white vs race1_other: 0.15\n",
            "race1_white vs race1_asian: 0.13\n",
            "race1_white vs race1_hisp: 0.32\n",
            "race1_black vs race1_other: 0.42\n",
            "race1_black vs race1_asian: 0.44\n",
            "race1_black vs race1_hisp: 0.25\n",
            "race1_other vs race1_asian: 0.02\n",
            "race1_other vs race1_hisp: 0.17\n",
            "race1_asian vs race1_hisp: 0.19\n",
            "\n",
            "Maximum Equalized Odds Violation is between race1_white vs race1_black, with a violation of 0.57\n",
            "\n",
            "Predictive Parity Pairwise Violations:\n",
            "race1_white vs race1_black: 0.01\n",
            "race1_white vs race1_other: 0.01\n",
            "race1_white vs race1_asian: 0.01\n",
            "race1_white vs race1_hisp: 0.02\n",
            "race1_black vs race1_other: 0.02\n",
            "race1_black vs race1_asian: 0.00\n",
            "race1_black vs race1_hisp: 0.01\n",
            "race1_other vs race1_asian: 0.02\n",
            "race1_other vs race1_hisp: 0.03\n",
            "race1_asian vs race1_hisp: 0.01\n",
            "\n",
            "Maximum Predictive Parity Violation is between race1_other vs race1_hisp, with a violation of 0.03\n"
          ]
        }
      ],
      "source": [
        "race_groups = X_s_test.unique()\n",
        "\n",
        "# Containers for metric results and pairwise violations\n",
        "DP_results, EO_results, PP_results = {}, {}, {}\n",
        "DP_violations, EO_violations, PP_violations = {}, {}, {}\n",
        "\n",
        "def calc_and_print_violations(results, metric_name):\n",
        "    # Calculate pairwise violations\n",
        "    violations = {}\n",
        "    max_violation = 0\n",
        "    max_violation_groups = \"\"\n",
        "    races = list(results.keys())\n",
        "\n",
        "    for i, race_i in enumerate(races):\n",
        "        for race_j in races[i+1:]:\n",
        "            violation = abs(results[race_i] - results[race_j])\n",
        "            violations[f'{race_i} vs {race_j}'] = violation\n",
        "\n",
        "            # Identify the maximum violation\n",
        "            if violation > max_violation:\n",
        "                max_violation = violation\n",
        "                max_violation_groups = f'{race_i} vs {race_j}'\n",
        "\n",
        "    # Print all pairwise violations for the metric\n",
        "    print(f\"\\n{metric_name} Pairwise Violations:\")\n",
        "    for pair, violation in violations.items():\n",
        "        print(f\"{pair}: {violation:.2f}\")\n",
        "\n",
        "    print(f\"\\nMaximum {metric_name} Violation is between {max_violation_groups}, with a violation of {max_violation:.2f}\")\n",
        "\n",
        "    return violations, max_violation_groups, max_violation\n",
        "\n",
        "# Calculate metrics, pairwise violations, and print them\n",
        "for race in race_groups:\n",
        "    race_mask = (X_s_test == race)\n",
        "\n",
        "    # Metrics calculation\n",
        "    DP_results[race] = np.mean(y_hat[race_mask])\n",
        "    EO_results[race] = np.mean(y_hat[(y_test == 1) & race_mask])\n",
        "    PP_results[race] = np.sum((y_hat == 1) & (y_test == 1) & race_mask) / np.sum((y_hat == 1) & race_mask)\n",
        "\n",
        "# Compute and print pairwise violations for each metric\n",
        "DP_violations, max_DP_groups, max_DP_viol = calc_and_print_violations(DP_results, \"Demographic Parity\")\n",
        "EO_violations, max_EO_groups, max_EO_viol = calc_and_print_violations(EO_results, \"Equalized Odds\")\n",
        "PP_violations, max_PP_groups, max_PP_viol = calc_and_print_violations(PP_results, \"Predictive Parity\")"
      ]
    },
    {
      "cell_type": "code",
      "execution_count": null,
      "id": "dc5dc1e0",
      "metadata": {
        "id": "dc5dc1e0"
      },
      "outputs": [],
      "source": [
        "# Function to simplify race labels for the next 3 visualizations\n",
        "def simplify_race_labels(race_keys):\n",
        "    simplified_labels = [label.split('_')[1] for label in race_keys]\n",
        "    return simplified_labels\n",
        "\n",
        "DP_labels = simplify_race_labels(DP_results.keys())\n",
        "EO_labels = simplify_race_labels(EO_results.keys())\n",
        "PP_labels = simplify_race_labels(PP_results.keys())"
      ]
    },
    {
      "cell_type": "code",
      "execution_count": null,
      "id": "774cf6fb",
      "metadata": {
        "colab": {
          "base_uri": "https://localhost:8080/",
          "height": 407
        },
        "id": "774cf6fb",
        "outputId": "7016d7cc-bacc-4110-e24b-7d3c052beb79"
      },
      "outputs": [
        {
          "output_type": "display_data",
          "data": {
            "text/plain": [
              "<Figure size 600x400 with 1 Axes>"
            ],
            "image/png": "[encoded data removed]"
          },
          "metadata": {}
        }
      ],
      "source": [
        "plt.figure(figsize=(6, 4))\n",
        "bars = plt.bar(DP_labels, DP_results.values(), color='skyblue')\n",
        "plt.title('Demographic Parity by Race')\n",
        "plt.ylim(0, 1.1)\n",
        "plt.ylabel('Rates')\n",
        "plt.xticks(rotation=45, ha = 'right')\n",
        "\n",
        "for bar, value in zip(bars, DP_results.values()):\n",
        "    plt.text(bar.get_x() + bar.get_width() / 2, bar.get_height() + 0.02, f\"{value:.2f}\",\n",
        "             ha='center', va='bottom')\n",
        "\n",
        "plt.tight_layout()\n",
        "plt.show()"
      ]
    },
    {
      "cell_type": "code",
      "execution_count": null,
      "id": "4d19cd16",
      "metadata": {
        "colab": {
          "base_uri": "https://localhost:8080/",
          "height": 407
        },
        "id": "4d19cd16",
        "outputId": "ba6e2300-d2a6-4c09-8345-238ff1e82221"
      },
      "outputs": [
        {
          "output_type": "display_data",
          "data": {
            "text/plain": [
              "<Figure size 600x400 with 1 Axes>"
            ],
            "image/png": "[encoded data removed]"
          },
          "metadata": {}
        }
      ],
      "source": [
        "plt.figure(figsize=(6, 4))\n",
        "bars = plt.bar(EO_labels, EO_results.values(), color='lightgreen')\n",
        "plt.title('Equalized Odds by Race')\n",
        "plt.ylim(0, 1.1)\n",
        "plt.ylabel('Rates')\n",
        "plt.xticks(rotation=45, ha ='right')\n",
        "\n",
        "for bar, value in zip(bars, EO_results.values()):\n",
        "    plt.text(bar.get_x() + bar.get_width() / 2, bar.get_height() + 0.02, f\"{value:.2f}\",\n",
        "             ha='center', va='bottom')\n",
        "\n",
        "plt.tight_layout()\n",
        "plt.show()"
      ]
    },
    {
      "cell_type": "code",
      "execution_count": null,
      "id": "0b0b86b6",
      "metadata": {
        "colab": {
          "base_uri": "https://localhost:8080/",
          "height": 407
        },
        "id": "0b0b86b6",
        "outputId": "01e15cbf-1358-447e-cffc-48b7e7180491"
      },
      "outputs": [
        {
          "output_type": "display_data",
          "data": {
            "text/plain": [
              "<Figure size 600x400 with 1 Axes>"
            ],
            "image/png": "[encoded data removed]"
          },
          "metadata": {}
        }
      ],
      "source": [
        "plt.figure(figsize=(6, 4))\n",
        "bars = plt.bar(PP_labels, PP_results.values(), color='salmon')\n",
        "plt.title('Predictive Parity by Race')\n",
        "plt.ylim(0, 1.1)\n",
        "plt.ylabel('Rates')\n",
        "plt.xticks(rotation=45, ha='right')\n",
        "\n",
        "\n",
        "for bar, value in zip(bars, PP_results.values()):\n",
        "    plt.text(bar.get_x() + bar.get_width() / 2, bar.get_height() + 0.02, f\"{value:.2f}\",\n",
        "             ha='center', va='bottom')\n",
        "\n",
        "plt.tight_layout()\n",
        "plt.show()"
      ]
    },
    {
      "cell_type": "code",
      "execution_count": null,
      "id": "a232ca52",
      "metadata": {
        "colab": {
          "base_uri": "https://localhost:8080/",
          "height": 607
        },
        "id": "a232ca52",
        "outputId": "fd55edab-26b1-4015-ff4f-acd0b3d6fd05"
      },
      "outputs": [
        {
          "output_type": "display_data",
          "data": {
            "text/plain": [
              "<Figure size 600x600 with 1 Axes>"
            ],
            "image/png": "[encoded data removed]"
          },
          "metadata": {}
        }
      ],
      "source": [
        "plt.figure(figsize=(6, 6))\n",
        "metrics = ['Demographic Parity', 'Equalized Odds', 'Predictive Parity']\n",
        "violations = [max_DP_viol, max_EO_viol, max_PP_viol]\n",
        "bars = plt.bar(metrics, violations, color=('skyblue', 'lightgreen', 'salmon'))\n",
        "plt.title('Maximum Fairness Metric Violations between Race Groups')\n",
        "plt.ylabel('Violation Magnitude')\n",
        "plt.xticks(rotation=45)\n",
        "\n",
        "for bar, value in zip(bars, violations):\n",
        "    plt.text(bar.get_x() + bar.get_width() / 2, bar.get_height(), f\"{value:.2f}\",\n",
        "             ha='center', va='bottom')\n",
        "\n",
        "plt.tight_layout()\n",
        "plt.show()"
      ]
    },
    {
      "cell_type": "markdown",
      "id": "b89bae79",
      "metadata": {
        "id": "b89bae79"
      },
      "source": [
        "# Other Code:"
      ]
    },
    {
      "cell_type": "code",
      "execution_count": null,
      "id": "7b85f893",
      "metadata": {
        "id": "7b85f893",
        "outputId": "b1b0b0a8-b5ce-4868-daff-007f377ede03",
        "colab": {
          "base_uri": "https://localhost:8080/"
        }
      },
      "outputs": [
        {
          "output_type": "stream",
          "name": "stdout",
          "text": [
            "% Asian in train: 3.98\n",
            "% Black in train: 5.99\n",
            "% Hisp in train: 4.54\n",
            "% White in train: 83.67\n",
            "% Other in train: 1.82\n",
            "\n",
            "% Asian in test: 4.06\n",
            "% Black in test: 6.0\n",
            "% Hisp in test: 4.67\n",
            "% White in test: 83.45\n",
            "% Other in test: 1.83\n",
            "\n",
            "Training Data Pass Rate Absolute Differences Between Groups:\n",
            "Asian - Black: 14.15%\n",
            "Asian - Hispanic: 4.4%\n",
            "Asian - White: 4.87%\n",
            "Asian - Other: 1.68%\n",
            "Black - Asian: 14.15%\n",
            "Black - Hispanic: 9.75%\n",
            "Black - White: 19.02%\n",
            "Black - Other: 12.47%\n",
            "Hispanic - Asian: 4.4%\n",
            "Hispanic - Black: 9.75%\n",
            "Hispanic - White: 9.27%\n",
            "Hispanic - Other: 2.72%\n",
            "White - Asian: 4.87%\n",
            "White - Black: 19.02%\n",
            "White - Hispanic: 9.27%\n",
            "White - Other: 6.55%\n",
            "Other - Asian: 1.68%\n",
            "Other - Black: 12.47%\n",
            "Other - Hispanic: 2.72%\n",
            "Other - White: 6.55%\n",
            "\n",
            "Testing Data Pass Rate Absolute Differences Between Groups:\n",
            "Asian - Black: 14.85%\n",
            "Asian - Hispanic: 5.17%\n",
            "Asian - White: 3.55%\n",
            "Asian - Other: 4.11%\n",
            "Black - Asian: 14.85%\n",
            "Black - Hispanic: 9.67%\n",
            "Black - White: 18.4%\n",
            "Black - Other: 10.74%\n",
            "Hispanic - Asian: 5.17%\n",
            "Hispanic - Black: 9.67%\n",
            "Hispanic - White: 8.72%\n",
            "Hispanic - Other: 1.06%\n",
            "White - Asian: 3.55%\n",
            "White - Black: 18.4%\n",
            "White - Hispanic: 8.72%\n",
            "White - Other: 7.66%\n",
            "Other - Asian: 4.11%\n",
            "Other - Black: 10.74%\n",
            "Other - Hispanic: 1.06%\n",
            "Other - White: 7.66%\n"
          ]
        }
      ],
      "source": [
        "X = df_binarized.drop(columns=['bar_passed'])\n",
        "y = df_binarized.bar_passed\n",
        "X_train, X_test, y_train, y_test = train_test_split(X, y, test_size=0.33, random_state=3)\n",
        "\n",
        "perc_asian_train = (X_train['race1_asian'] == True).mean()\n",
        "perc_black_train = (X_train['race1_black'] == True).mean()\n",
        "perc_hisp_train = (X_train['race1_hisp'] == True).mean()\n",
        "perc_white_train = (X_train['race1_white'] == True).mean()\n",
        "perc_other_train = (X_train['race1_other'] == True).mean()\n",
        "\n",
        "print('% Asian in train:', round(perc_asian_train * 100,2))\n",
        "print('% Black in train:', round(perc_black_train * 100,2))\n",
        "print('% Hisp in train:', round(perc_hisp_train * 100,2))\n",
        "print('% White in train:', round(perc_white_train * 100,2))\n",
        "print('% Other in train:', round(perc_other_train * 100,2))\n",
        "\n",
        "perc_asian_test = (X_test['race1_asian'] == True).mean()\n",
        "perc_black_test = (X_test['race1_black'] == True).mean()\n",
        "perc_hisp_test = (X_test['race1_hisp'] == True).mean()\n",
        "perc_white_test = (X_test['race1_white'] == True).mean()\n",
        "perc_other_test = (X_test['race1_other'] == True).mean()\n",
        "\n",
        "print('\\n% Asian in test:', round(perc_asian_test * 100,2))\n",
        "print('% Black in test:', round(perc_black_test * 100,2))\n",
        "print('% Hisp in test:', round(perc_hisp_test * 100,2))\n",
        "print('% White in test:', round(perc_white_test * 100,2))\n",
        "print('% Other in test:', round(perc_other_test * 100,2))\n",
        "\n",
        "pass_rate_asian_train = y_train[X_train['race1_asian'] == True].mean()\n",
        "pass_rate_black_train = y_train[X_train['race1_black'] == True].mean()\n",
        "pass_rate_hisp_train = y_train[X_train['race1_hisp'] == True].mean()\n",
        "pass_rate_white_train = y_train[X_train['race1_white'] == True].mean()\n",
        "pass_rate_other_train = y_train[X_train['race1_other'] == True].mean()\n",
        "\n",
        "pass_rate_asian_test = y_test[X_test['race1_asian'] == True].mean()\n",
        "pass_rate_black_test = y_test[X_test['race1_black'] == True].mean()\n",
        "pass_rate_hisp_test= y_test[X_test['race1_hisp'] == True].mean()\n",
        "pass_rate_white_test = y_test[X_test['race1_white'] == True].mean()\n",
        "pass_rate_other_test = y_test[X_test['race1_other'] == True].mean()\n",
        "\n",
        "print('\\nTraining Data Pass Rate Absolute Differences Between Groups:')\n",
        "train_pass_rates = {\n",
        "    'Asian': pass_rate_asian_train,\n",
        "    'Black': pass_rate_black_train,\n",
        "    'Hispanic': pass_rate_hisp_train,\n",
        "    'White': pass_rate_white_train,\n",
        "    'Other': pass_rate_other_train\n",
        "}\n",
        "\n",
        "for race1 in train_pass_rates:\n",
        "    for race2 in train_pass_rates:\n",
        "        if race1 != race2:\n",
        "            difference = abs(train_pass_rates[race1] - train_pass_rates[race2]) * 100\n",
        "            print(f'{race1} - {race2}: {round(difference, 2)}%')\n",
        "\n",
        "print('\\nTesting Data Pass Rate Absolute Differences Between Groups:')\n",
        "test_pass_rates = {\n",
        "    'Asian': pass_rate_asian_test,\n",
        "    'Black': pass_rate_black_test,\n",
        "    'Hispanic': pass_rate_hisp_test,\n",
        "    'White': pass_rate_white_test,\n",
        "    'Other': pass_rate_other_test\n",
        "}\n",
        "\n",
        "for race1 in test_pass_rates:\n",
        "    for race2 in test_pass_rates:\n",
        "        if race1 != race2:\n",
        "            difference = abs(test_pass_rates[race1] - test_pass_rates[race2]) * 100\n",
        "            print(f'{race1} - {race2}: {round(difference, 2)}%')"
      ]
    },
    {
      "cell_type": "code",
      "source": [
        "# One option - Create a simplified race_group column that consolidates race into two categories\n",
        "# In this case, 0 = other, 1 = white. White makes up ~83% of all the records in the data.\n",
        "# Then, proceed with the same analysis that was done for gender.\n",
        "\n",
        "df_binarized['race_group'] = df_binarized['race1_white'].astype(int)\n",
        "df_binarized = df_binarized.drop(columns=['race1_asian', 'race1_black', 'race1_hisp', 'race1_other'])\n",
        "\n",
        "# Downside: Aggregating all non-White categories into a single \"Other\" category significantly reduces the granularity\n",
        "# of our analysis. This means we won't be able to identify or address disparities that may exist between individual non-White racial groups.\n",
        "\n",
        "# One option is to do this analysis 5 times, with each iteration focusing on a different racial group as 1 (\"target group\") and\n",
        "# aggregating all others as 0 (\"other\"). This could partially mitigate the issues."
      ],
      "metadata": {
        "id": "ijDCLDNSbqak"
      },
      "id": "ijDCLDNSbqak",
      "execution_count": null,
      "outputs": []
    },
    {
      "cell_type": "code",
      "source": [
        "import pandas as pd\n",
        "\n",
        "# Assuming df is your dataframe\n",
        "# Example: df = pd.read_csv('your_data_file.csv')\n",
        "\n",
        "# Calculate total number of accepted individuals\n",
        "total_accepted = (df['bar_passed'] == True).sum()\n",
        "\n",
        "# Function to calculate acceptance percentages\n",
        "def calculate_percentage(df, column, value):\n",
        "    total = df[df[column] == value]['bar_passed'].count()\n",
        "    accepted = df[(df[column] == value) & (df['bar_passed'] == 1)]['bar_passed'].count()\n",
        "    percentage = (accepted / total) * 100 if total > 0 else 0\n",
        "    return percentage\n",
        "\n",
        "def passed_count(df, column, value):\n",
        "    total = df[df[column] == value]['bar_passed'].count()\n",
        "    return total\n",
        "\n",
        "# Gender counts and percentages\n",
        "male_count = passed_count(df,'gender',1)\n",
        "male_percentage = calculate_percentage(df, 'gender', 1)\n",
        "female_count = passed_count(df,'gender',0)\n",
        "female_percentage = calculate_percentage(df, 'gender', 0)\n",
        "\n",
        "# Race percentages\n",
        "white_percentage = calculate_percentage(df, 'race1', 'white')\n",
        "white_count = passed_count(df, 'race1','white' )\n",
        "black_percentage = calculate_percentage(df, 'race1', 'black')\n",
        "black_count = passed_count(df, 'race1','black' )\n",
        "asian_percentage = calculate_percentage(df, 'race1', 'asian')\n",
        "asian_count = passed_count(df, 'race1','asian' )\n",
        "hispanic_percentage = calculate_percentage(df, 'race1', 'hisp')\n",
        "hispanic_count = passed_count(df, 'race1','hisp' )\n",
        "\n",
        "# Print results\n",
        "print(f\"Total Accepted: {total_accepted}\")\n",
        "\n",
        "print(f\"Male Accepted Percentage: {male_percentage}%\")\n",
        "print(f\"Total Males accepted: {male_count}\")\n",
        "print(f\"Female Accepted Percentage: {female_percentage}%\")\n",
        "print(f\"Total female accepted: {female_count}\")\n",
        "\n",
        "print(f\"White Accepted Percentage: {white_percentage}%\")\n",
        "print(f\"White Accepted count: {white_count}\")\n",
        "print(f\"Black Accepted Percentage: {black_percentage}%\")\n",
        "print(f\"Black Accepted count: {black_count}\")\n",
        "print(f\"Asian Accepted Percentage: {asian_percentage}%\")\n",
        "print(f\"Asian Accepted count: {asian_count}\")\n",
        "print(f\"Hispanic Accepted Percentage: {hispanic_percentage}%\")\n",
        "print(f\"Hispanic Accepted count: {hispanic_count}\")\n"
      ],
      "metadata": {
        "colab": {
          "base_uri": "https://localhost:8080/"
        },
        "id": "WLk3i54fbvm1",
        "outputId": "10a9edb2-1534-4ecb-fc9a-d088e1d93b3c"
      },
      "id": "WLk3i54fbvm1",
      "execution_count": null,
      "outputs": [
        {
          "output_type": "stream",
          "name": "stdout",
          "text": [
            "Total Accepted: 21237\n",
            "Male Accepted Percentage: 95.22295524998012%\n",
            "Total Males accepted: 12581\n",
            "Female Accepted Percentage: 94.2092407897415%\n",
            "Total female accepted: 9826\n",
            "White Accepted Percentage: 96.62609438394192%\n",
            "White Accepted count: 18732\n",
            "Black Accepted Percentage: 77.8108711839166%\n",
            "Black Accepted count: 1343\n",
            "Asian Accepted Percentage: 92.19620958751393%\n",
            "Asian Accepted count: 897\n",
            "Hispanic Accepted Percentage: 87.5365141187926%\n",
            "Hispanic Accepted count: 1027\n"
          ]
        }
      ]
    },
    {
      "cell_type": "code",
      "source": [
        "df_binarized = pd.get_dummies(df)\n",
        "df_binarized"
      ],
      "metadata": {
        "colab": {
          "base_uri": "https://localhost:8080/",
          "height": 431
        },
        "id": "ejhmWE4cbxpw",
        "outputId": "5f07c234-daf6-4e3d-9e8a-ff355d0b8101"
      },
      "id": "ejhmWE4cbxpw",
      "execution_count": null,
      "outputs": [
        {
          "output_type": "execute_result",
          "data": {
            "text/plain": [
              "       decile3  decile1  lsat  ugpa  grad  fulltime  fam_inc  gender  \\\n",
              "0         10.0     10.0  44.0   3.5   1.0       1.0      5.0       0   \n",
              "1          4.0      5.0  29.0   3.5   1.0       1.0      4.0       0   \n",
              "2          2.0      3.0  36.0   3.5   1.0       1.0      1.0       1   \n",
              "3          4.0      7.0  39.0   3.5   1.0       1.0      4.0       1   \n",
              "4          8.0      9.0  48.0   3.5   1.0       1.0      4.0       1   \n",
              "...        ...      ...   ...   ...   ...       ...      ...     ...   \n",
              "22402      1.0      3.0  26.5   1.8   1.0       1.0      2.0       1   \n",
              "22403      1.0      3.0  19.7   1.8   1.0       1.0      3.0       1   \n",
              "22404      8.0      7.0  36.0   1.8   1.0       2.0      3.0       1   \n",
              "22405     10.0     10.0  44.0   1.5   1.0       2.0      3.0       1   \n",
              "22406      8.0      9.0  29.5   1.6   1.0       1.0      3.0       1   \n",
              "\n",
              "       bar_passed  tier  indxgrp  indxgrp2  race1_asian  race1_black  \\\n",
              "0            True   4.0        7         9        False        False   \n",
              "1            True   2.0        6         6        False        False   \n",
              "2            True   3.0        7         8        False        False   \n",
              "3            True   3.0        7         8        False        False   \n",
              "4            True   5.0        7         9        False        False   \n",
              "...           ...   ...      ...       ...          ...          ...   \n",
              "22402       False   1.0        2         2        False         True   \n",
              "22403       False   1.0        1         1        False         True   \n",
              "22404        True   3.0        5         5        False         True   \n",
              "22405        True   3.0        6         6        False        False   \n",
              "22406        True   1.0        3         3        False        False   \n",
              "\n",
              "       race1_hisp  race1_other  race1_white  \n",
              "0           False        False         True  \n",
              "1           False        False         True  \n",
              "2           False        False         True  \n",
              "3           False        False         True  \n",
              "4           False        False         True  \n",
              "...           ...          ...          ...  \n",
              "22402       False        False        False  \n",
              "22403       False        False        False  \n",
              "22404       False        False        False  \n",
              "22405       False        False         True  \n",
              "22406       False        False         True  \n",
              "\n",
              "[22407 rows x 17 columns]"
            ],
            "text/html": [
              "\n",
              "  <div id=\"df-fcc23a88-8b8b-4943-b02c-5c5a968c67b7\" class=\"colab-df-container\">\n",
              "    <div>\n",
              "<style scoped>\n",
              "    .dataframe tbody tr th:only-of-type {\n",
              "        vertical-align: middle;\n",
              "    }\n",
              "\n",
              "    .dataframe tbody tr th {\n",
              "        vertical-align: top;\n",
              "    }\n",
              "\n",
              "    .dataframe thead th {\n",
              "        text-align: right;\n",
              "    }\n",
              "</style>\n",
              "<table border=\"1\" class=\"dataframe\">\n",
              "  <thead>\n",
              "    <tr style=\"text-align: right;\">\n",
              "      <th></th>\n",
              "      <th>decile3</th>\n",
              "      <th>decile1</th>\n",
              "      <th>lsat</th>\n",
              "      <th>ugpa</th>\n",
              "      <th>grad</th>\n",
              "      <th>fulltime</th>\n",
              "      <th>fam_inc</th>\n",
              "      <th>gender</th>\n",
              "      <th>bar_passed</th>\n",
              "      <th>tier</th>\n",
              "      <th>indxgrp</th>\n",
              "      <th>indxgrp2</th>\n",
              "      <th>race1_asian</th>\n",
              "      <th>race1_black</th>\n",
              "      <th>race1_hisp</th>\n",
              "      <th>race1_other</th>\n",
              "      <th>race1_white</th>\n",
              "    </tr>\n",
              "  </thead>\n",
              "  <tbody>\n",
              "    <tr>\n",
              "      <th>0</th>\n",
              "      <td>10.0</td>\n",
              "      <td>10.0</td>\n",
              "      <td>44.0</td>\n",
              "      <td>3.5</td>\n",
              "      <td>1.0</td>\n",
              "      <td>1.0</td>\n",
              "      <td>5.0</td>\n",
              "      <td>0</td>\n",
              "      <td>True</td>\n",
              "      <td>4.0</td>\n",
              "      <td>7</td>\n",
              "      <td>9</td>\n",
              "      <td>False</td>\n",
              "      <td>False</td>\n",
              "      <td>False</td>\n",
              "      <td>False</td>\n",
              "      <td>True</td>\n",
              "    </tr>\n",
              "    <tr>\n",
              "      <th>1</th>\n",
              "      <td>4.0</td>\n",
              "      <td>5.0</td>\n",
              "      <td>29.0</td>\n",
              "      <td>3.5</td>\n",
              "      <td>1.0</td>\n",
              "      <td>1.0</td>\n",
              "      <td>4.0</td>\n",
              "      <td>0</td>\n",
              "      <td>True</td>\n",
              "      <td>2.0</td>\n",
              "      <td>6</td>\n",
              "      <td>6</td>\n",
              "      <td>False</td>\n",
              "      <td>False</td>\n",
              "      <td>False</td>\n",
              "      <td>False</td>\n",
              "      <td>True</td>\n",
              "    </tr>\n",
              "    <tr>\n",
              "      <th>2</th>\n",
              "      <td>2.0</td>\n",
              "      <td>3.0</td>\n",
              "      <td>36.0</td>\n",
              "      <td>3.5</td>\n",
              "      <td>1.0</td>\n",
              "      <td>1.0</td>\n",
              "      <td>1.0</td>\n",
              "      <td>1</td>\n",
              "      <td>True</td>\n",
              "      <td>3.0</td>\n",
              "      <td>7</td>\n",
              "      <td>8</td>\n",
              "      <td>False</td>\n",
              "      <td>False</td>\n",
              "      <td>False</td>\n",
              "      <td>False</td>\n",
              "      <td>True</td>\n",
              "    </tr>\n",
              "    <tr>\n",
              "      <th>3</th>\n",
              "      <td>4.0</td>\n",
              "      <td>7.0</td>\n",
              "      <td>39.0</td>\n",
              "      <td>3.5</td>\n",
              "      <td>1.0</td>\n",
              "      <td>1.0</td>\n",
              "      <td>4.0</td>\n",
              "      <td>1</td>\n",
              "      <td>True</td>\n",
              "      <td>3.0</td>\n",
              "      <td>7</td>\n",
              "      <td>8</td>\n",
              "      <td>False</td>\n",
              "      <td>False</td>\n",
              "      <td>False</td>\n",
              "      <td>False</td>\n",
              "      <td>True</td>\n",
              "    </tr>\n",
              "    <tr>\n",
              "      <th>4</th>\n",
              "      <td>8.0</td>\n",
              "      <td>9.0</td>\n",
              "      <td>48.0</td>\n",
              "      <td>3.5</td>\n",
              "      <td>1.0</td>\n",
              "      <td>1.0</td>\n",
              "      <td>4.0</td>\n",
              "      <td>1</td>\n",
              "      <td>True</td>\n",
              "      <td>5.0</td>\n",
              "      <td>7</td>\n",
              "      <td>9</td>\n",
              "      <td>False</td>\n",
              "      <td>False</td>\n",
              "      <td>False</td>\n",
              "      <td>False</td>\n",
              "      <td>True</td>\n",
              "    </tr>\n",
              "    <tr>\n",
              "      <th>...</th>\n",
              "      <td>...</td>\n",
              "      <td>...</td>\n",
              "      <td>...</td>\n",
              "      <td>...</td>\n",
              "      <td>...</td>\n",
              "      <td>...</td>\n",
              "      <td>...</td>\n",
              "      <td>...</td>\n",
              "      <td>...</td>\n",
              "      <td>...</td>\n",
              "      <td>...</td>\n",
              "      <td>...</td>\n",
              "      <td>...</td>\n",
              "      <td>...</td>\n",
              "      <td>...</td>\n",
              "      <td>...</td>\n",
              "      <td>...</td>\n",
              "    </tr>\n",
              "    <tr>\n",
              "      <th>22402</th>\n",
              "      <td>1.0</td>\n",
              "      <td>3.0</td>\n",
              "      <td>26.5</td>\n",
              "      <td>1.8</td>\n",
              "      <td>1.0</td>\n",
              "      <td>1.0</td>\n",
              "      <td>2.0</td>\n",
              "      <td>1</td>\n",
              "      <td>False</td>\n",
              "      <td>1.0</td>\n",
              "      <td>2</td>\n",
              "      <td>2</td>\n",
              "      <td>False</td>\n",
              "      <td>True</td>\n",
              "      <td>False</td>\n",
              "      <td>False</td>\n",
              "      <td>False</td>\n",
              "    </tr>\n",
              "    <tr>\n",
              "      <th>22403</th>\n",
              "      <td>1.0</td>\n",
              "      <td>3.0</td>\n",
              "      <td>19.7</td>\n",
              "      <td>1.8</td>\n",
              "      <td>1.0</td>\n",
              "      <td>1.0</td>\n",
              "      <td>3.0</td>\n",
              "      <td>1</td>\n",
              "      <td>False</td>\n",
              "      <td>1.0</td>\n",
              "      <td>1</td>\n",
              "      <td>1</td>\n",
              "      <td>False</td>\n",
              "      <td>True</td>\n",
              "      <td>False</td>\n",
              "      <td>False</td>\n",
              "      <td>False</td>\n",
              "    </tr>\n",
              "    <tr>\n",
              "      <th>22404</th>\n",
              "      <td>8.0</td>\n",
              "      <td>7.0</td>\n",
              "      <td>36.0</td>\n",
              "      <td>1.8</td>\n",
              "      <td>1.0</td>\n",
              "      <td>2.0</td>\n",
              "      <td>3.0</td>\n",
              "      <td>1</td>\n",
              "      <td>True</td>\n",
              "      <td>3.0</td>\n",
              "      <td>5</td>\n",
              "      <td>5</td>\n",
              "      <td>False</td>\n",
              "      <td>True</td>\n",
              "      <td>False</td>\n",
              "      <td>False</td>\n",
              "      <td>False</td>\n",
              "    </tr>\n",
              "    <tr>\n",
              "      <th>22405</th>\n",
              "      <td>10.0</td>\n",
              "      <td>10.0</td>\n",
              "      <td>44.0</td>\n",
              "      <td>1.5</td>\n",
              "      <td>1.0</td>\n",
              "      <td>2.0</td>\n",
              "      <td>3.0</td>\n",
              "      <td>1</td>\n",
              "      <td>True</td>\n",
              "      <td>3.0</td>\n",
              "      <td>6</td>\n",
              "      <td>6</td>\n",
              "      <td>False</td>\n",
              "      <td>False</td>\n",
              "      <td>False</td>\n",
              "      <td>False</td>\n",
              "      <td>True</td>\n",
              "    </tr>\n",
              "    <tr>\n",
              "      <th>22406</th>\n",
              "      <td>8.0</td>\n",
              "      <td>9.0</td>\n",
              "      <td>29.5</td>\n",
              "      <td>1.6</td>\n",
              "      <td>1.0</td>\n",
              "      <td>1.0</td>\n",
              "      <td>3.0</td>\n",
              "      <td>1</td>\n",
              "      <td>True</td>\n",
              "      <td>1.0</td>\n",
              "      <td>3</td>\n",
              "      <td>3</td>\n",
              "      <td>False</td>\n",
              "      <td>False</td>\n",
              "      <td>False</td>\n",
              "      <td>False</td>\n",
              "      <td>True</td>\n",
              "    </tr>\n",
              "  </tbody>\n",
              "</table>\n",
              "<p>22407 rows × 17 columns</p>\n",
              "</div>\n",
              "    <div class=\"colab-df-buttons\">\n",
              "\n",
              "  <div class=\"colab-df-container\">\n",
              "    <button class=\"colab-df-convert\" onclick=\"convertToInteractive('df-fcc23a88-8b8b-4943-b02c-5c5a968c67b7')\"\n",
              "            title=\"Convert this dataframe to an interactive table.\"\n",
              "            style=\"display:none;\">\n",
              "\n",
              "  <svg xmlns=\"http://www.w3.org/2000/svg\" height=\"24px\" viewBox=\"0 -960 960 960\">\n",
              "    <path d=\"M120-120v-720h720v720H120Zm60-500h600v-160H180v160Zm220 220h160v-160H400v160Zm0 220h160v-160H400v160ZM180-400h160v-160H180v160Zm440 0h160v-160H620v160ZM180-180h160v-160H180v160Zm440 0h160v-160H620v160Z\"/>\n",
              "  </svg>\n",
              "    </button>\n",
              "\n",
              "  <style>\n",
              "    .colab-df-container {\n",
              "      display:flex;\n",
              "      gap: 12px;\n",
              "    }\n",
              "\n",
              "    .colab-df-convert {\n",
              "      background-color: #E8F0FE;\n",
              "      border: none;\n",
              "      border-radius: 50%;\n",
              "      cursor: pointer;\n",
              "      display: none;\n",
              "      fill: #1967D2;\n",
              "      height: 32px;\n",
              "      padding: 0 0 0 0;\n",
              "      width: 32px;\n",
              "    }\n",
              "\n",
              "    .colab-df-convert:hover {\n",
              "      background-color: #E2EBFA;\n",
              "      box-shadow: 0px 1px 2px rgba(60, 64, 67, 0.3), 0px 1px 3px 1px rgba(60, 64, 67, 0.15);\n",
              "      fill: #174EA6;\n",
              "    }\n",
              "\n",
              "    .colab-df-buttons div {\n",
              "      margin-bottom: 4px;\n",
              "    }\n",
              "\n",
              "    [theme=dark] .colab-df-convert {\n",
              "      background-color: #3B4455;\n",
              "      fill: #D2E3FC;\n",
              "    }\n",
              "\n",
              "    [theme=dark] .colab-df-convert:hover {\n",
              "      background-color: #434B5C;\n",
              "      box-shadow: 0px 1px 3px 1px rgba(0, 0, 0, 0.15);\n",
              "      filter: drop-shadow(0px 1px 2px rgba(0, 0, 0, 0.3));\n",
              "      fill: #FFFFFF;\n",
              "    }\n",
              "  </style>\n",
              "\n",
              "    <script>\n",
              "      const buttonEl =\n",
              "        document.querySelector('#df-fcc23a88-8b8b-4943-b02c-5c5a968c67b7 button.colab-df-convert');\n",
              "      buttonEl.style.display =\n",
              "        google.colab.kernel.accessAllowed ? 'block' : 'none';\n",
              "\n",
              "      async function convertToInteractive(key) {\n",
              "        const element = document.querySelector('#df-fcc23a88-8b8b-4943-b02c-5c5a968c67b7');\n",
              "        const dataTable =\n",
              "          await google.colab.kernel.invokeFunction('convertToInteractive',\n",
              "                                                    [key], {});\n",
              "        if (!dataTable) return;\n",
              "\n",
              "        const docLinkHtml = 'Like what you see? Visit the ' +\n",
              "          '<a target=\"_blank\" href=https://colab.research.google.com/notebooks/data_table.ipynb>data table notebook</a>'\n",
              "          + ' to learn more about interactive tables.';\n",
              "        element.innerHTML = '';\n",
              "        dataTable['output_type'] = 'display_data';\n",
              "        await google.colab.output.renderOutput(dataTable, element);\n",
              "        const docLink = document.createElement('div');\n",
              "        docLink.innerHTML = docLinkHtml;\n",
              "        element.appendChild(docLink);\n",
              "      }\n",
              "    </script>\n",
              "  </div>\n",
              "\n",
              "\n",
              "<div id=\"df-217db292-4269-42b5-909f-0e64d24589c9\">\n",
              "  <button class=\"colab-df-quickchart\" onclick=\"quickchart('df-217db292-4269-42b5-909f-0e64d24589c9')\"\n",
              "            title=\"Suggest charts\"\n",
              "            style=\"display:none;\">\n",
              "\n",
              "<svg xmlns=\"http://www.w3.org/2000/svg\" height=\"24px\"viewBox=\"0 0 24 24\"\n",
              "     width=\"24px\">\n",
              "    <g>\n",
              "        <path d=\"M19 3H5c-1.1 0-2 .9-2 2v14c0 1.1.9 2 2 2h14c1.1 0 2-.9 2-2V5c0-1.1-.9-2-2-2zM9 17H7v-7h2v7zm4 0h-2V7h2v10zm4 0h-2v-4h2v4z\"/>\n",
              "    </g>\n",
              "</svg>\n",
              "  </button>\n",
              "\n",
              "<style>\n",
              "  .colab-df-quickchart {\n",
              "      --bg-color: #E8F0FE;\n",
              "      --fill-color: #1967D2;\n",
              "      --hover-bg-color: #E2EBFA;\n",
              "      --hover-fill-color: #174EA6;\n",
              "      --disabled-fill-color: #AAA;\n",
              "      --disabled-bg-color: #DDD;\n",
              "  }\n",
              "\n",
              "  [theme=dark] .colab-df-quickchart {\n",
              "      --bg-color: #3B4455;\n",
              "      --fill-color: #D2E3FC;\n",
              "      --hover-bg-color: #434B5C;\n",
              "      --hover-fill-color: #FFFFFF;\n",
              "      --disabled-bg-color: #3B4455;\n",
              "      --disabled-fill-color: #666;\n",
              "  }\n",
              "\n",
              "  .colab-df-quickchart {\n",
              "    background-color: var(--bg-color);\n",
              "    border: none;\n",
              "    border-radius: 50%;\n",
              "    cursor: pointer;\n",
              "    display: none;\n",
              "    fill: var(--fill-color);\n",
              "    height: 32px;\n",
              "    padding: 0;\n",
              "    width: 32px;\n",
              "  }\n",
              "\n",
              "  .colab-df-quickchart:hover {\n",
              "    background-color: var(--hover-bg-color);\n",
              "    box-shadow: 0 1px 2px rgba(60, 64, 67, 0.3), 0 1px 3px 1px rgba(60, 64, 67, 0.15);\n",
              "    fill: var(--button-hover-fill-color);\n",
              "  }\n",
              "\n",
              "  .colab-df-quickchart-complete:disabled,\n",
              "  .colab-df-quickchart-complete:disabled:hover {\n",
              "    background-color: var(--disabled-bg-color);\n",
              "    fill: var(--disabled-fill-color);\n",
              "    box-shadow: none;\n",
              "  }\n",
              "\n",
              "  .colab-df-spinner {\n",
              "    border: 2px solid var(--fill-color);\n",
              "    border-color: transparent;\n",
              "    border-bottom-color: var(--fill-color);\n",
              "    animation:\n",
              "      spin 1s steps(1) infinite;\n",
              "  }\n",
              "\n",
              "  @keyframes spin {\n",
              "    0% {\n",
              "      border-color: transparent;\n",
              "      border-bottom-color: var(--fill-color);\n",
              "      border-left-color: var(--fill-color);\n",
              "    }\n",
              "    20% {\n",
              "      border-color: transparent;\n",
              "      border-left-color: var(--fill-color);\n",
              "      border-top-color: var(--fill-color);\n",
              "    }\n",
              "    30% {\n",
              "      border-color: transparent;\n",
              "      border-left-color: var(--fill-color);\n",
              "      border-top-color: var(--fill-color);\n",
              "      border-right-color: var(--fill-color);\n",
              "    }\n",
              "    40% {\n",
              "      border-color: transparent;\n",
              "      border-right-color: var(--fill-color);\n",
              "      border-top-color: var(--fill-color);\n",
              "    }\n",
              "    60% {\n",
              "      border-color: transparent;\n",
              "      border-right-color: var(--fill-color);\n",
              "    }\n",
              "    80% {\n",
              "      border-color: transparent;\n",
              "      border-right-color: var(--fill-color);\n",
              "      border-bottom-color: var(--fill-color);\n",
              "    }\n",
              "    90% {\n",
              "      border-color: transparent;\n",
              "      border-bottom-color: var(--fill-color);\n",
              "    }\n",
              "  }\n",
              "</style>\n",
              "\n",
              "  <script>\n",
              "    async function quickchart(key) {\n",
              "      const quickchartButtonEl =\n",
              "        document.querySelector('#' + key + ' button');\n",
              "      quickchartButtonEl.disabled = true;  // To prevent multiple clicks.\n",
              "      quickchartButtonEl.classList.add('colab-df-spinner');\n",
              "      try {\n",
              "        const charts = await google.colab.kernel.invokeFunction(\n",
              "            'suggestCharts', [key], {});\n",
              "      } catch (error) {\n",
              "        console.error('Error during call to suggestCharts:', error);\n",
              "      }\n",
              "      quickchartButtonEl.classList.remove('colab-df-spinner');\n",
              "      quickchartButtonEl.classList.add('colab-df-quickchart-complete');\n",
              "    }\n",
              "    (() => {\n",
              "      let quickchartButtonEl =\n",
              "        document.querySelector('#df-217db292-4269-42b5-909f-0e64d24589c9 button');\n",
              "      quickchartButtonEl.style.display =\n",
              "        google.colab.kernel.accessAllowed ? 'block' : 'none';\n",
              "    })();\n",
              "  </script>\n",
              "</div>\n",
              "    </div>\n",
              "  </div>\n"
            ],
            "application/vnd.google.colaboratory.intrinsic+json": {
              "type": "dataframe",
              "variable_name": "df_binarized",
              "summary": "{\n  \"name\": \"df_binarized\",\n  \"rows\": 22407,\n  \"fields\": [\n    {\n      \"column\": \"decile3\",\n      \"properties\": {\n        \"dtype\": \"number\",\n        \"std\": 2.8512859706137275,\n        \"min\": 1.0,\n        \"max\": 10.0,\n        \"num_unique_values\": 10,\n        \"samples\": [\n          1.0,\n          4.0,\n          7.0\n        ],\n        \"semantic_type\": \"\",\n        \"description\": \"\"\n      }\n    },\n    {\n      \"column\": \"decile1\",\n      \"properties\": {\n        \"dtype\": \"number\",\n        \"std\": 2.783098436123911,\n        \"min\": 1.0,\n        \"max\": 10.0,\n        \"num_unique_values\": 10,\n        \"samples\": [\n          8.0,\n          5.0,\n          4.0\n        ],\n        \"semantic_type\": \"\",\n        \"description\": \"\"\n      }\n    },\n    {\n      \"column\": \"lsat\",\n      \"properties\": {\n        \"dtype\": \"number\",\n        \"std\": 5.46324753684371,\n        \"min\": 11.0,\n        \"max\": 48.0,\n        \"num_unique_values\": 116,\n        \"samples\": [\n          34.3,\n          48.0,\n          29.5\n        ],\n        \"semantic_type\": \"\",\n        \"description\": \"\"\n      }\n    },\n    {\n      \"column\": \"ugpa\",\n      \"properties\": {\n        \"dtype\": \"number\",\n        \"std\": 0.4040725369828622,\n        \"min\": 1.5,\n        \"max\": 3.9,\n        \"num_unique_values\": 25,\n        \"samples\": [\n          2.8,\n          2.5,\n          3.5\n        ],\n        \"semantic_type\": \"\",\n        \"description\": \"\"\n      }\n    },\n    {\n      \"column\": \"grad\",\n      \"properties\": {\n        \"dtype\": \"number\",\n        \"std\": 0.06290390075658538,\n        \"min\": 0.0,\n        \"max\": 1.0,\n        \"num_unique_values\": 2,\n        \"samples\": [\n          0.0,\n          1.0\n        ],\n        \"semantic_type\": \"\",\n        \"description\": \"\"\n      }\n    },\n    {\n      \"column\": \"fulltime\",\n      \"properties\": {\n        \"dtype\": \"number\",\n        \"std\": 0.26640432998256036,\n        \"min\": 1.0,\n        \"max\": 2.0,\n        \"num_unique_values\": 2,\n        \"samples\": [\n          2.0,\n          1.0\n        ],\n        \"semantic_type\": \"\",\n        \"description\": \"\"\n      }\n    },\n    {\n      \"column\": \"fam_inc\",\n      \"properties\": {\n        \"dtype\": \"number\",\n        \"std\": 0.8564245228904142,\n        \"min\": 1.0,\n        \"max\": 5.0,\n        \"num_unique_values\": 5,\n        \"samples\": [\n          4.0,\n          2.0\n        ],\n        \"semantic_type\": \"\",\n        \"description\": \"\"\n      }\n    },\n    {\n      \"column\": \"gender\",\n      \"properties\": {\n        \"dtype\": \"number\",\n        \"std\": 0,\n        \"min\": 0,\n        \"max\": 1,\n        \"num_unique_values\": 2,\n        \"samples\": [\n          1,\n          0\n        ],\n        \"semantic_type\": \"\",\n        \"description\": \"\"\n      }\n    },\n    {\n      \"column\": \"bar_passed\",\n      \"properties\": {\n        \"dtype\": \"boolean\",\n        \"num_unique_values\": 2,\n        \"samples\": [\n          false,\n          true\n        ],\n        \"semantic_type\": \"\",\n        \"description\": \"\"\n      }\n    },\n    {\n      \"column\": \"tier\",\n      \"properties\": {\n        \"dtype\": \"number\",\n        \"std\": 1.179374905572524,\n        \"min\": 1.0,\n        \"max\": 6.0,\n        \"num_unique_values\": 6,\n        \"samples\": [\n          4.0,\n          2.0\n        ],\n        \"semantic_type\": \"\",\n        \"description\": \"\"\n      }\n    },\n    {\n      \"column\": \"indxgrp\",\n      \"properties\": {\n        \"dtype\": \"number\",\n        \"std\": 1,\n        \"min\": 1,\n        \"max\": 7,\n        \"num_unique_values\": 7,\n        \"samples\": [\n          7,\n          6\n        ],\n        \"semantic_type\": \"\",\n        \"description\": \"\"\n      }\n    },\n    {\n      \"column\": \"indxgrp2\",\n      \"properties\": {\n        \"dtype\": \"number\",\n        \"std\": 1,\n        \"min\": 1,\n        \"max\": 9,\n        \"num_unique_values\": 9,\n        \"samples\": [\n          2,\n          6\n        ],\n        \"semantic_type\": \"\",\n        \"description\": \"\"\n      }\n    },\n    {\n      \"column\": \"race1_asian\",\n      \"properties\": {\n        \"dtype\": \"boolean\",\n        \"num_unique_values\": 2,\n        \"samples\": [\n          true,\n          false\n        ],\n        \"semantic_type\": \"\",\n        \"description\": \"\"\n      }\n    },\n    {\n      \"column\": \"race1_black\",\n      \"properties\": {\n        \"dtype\": \"boolean\",\n        \"num_unique_values\": 2,\n        \"samples\": [\n          true,\n          false\n        ],\n        \"semantic_type\": \"\",\n        \"description\": \"\"\n      }\n    },\n    {\n      \"column\": \"race1_hisp\",\n      \"properties\": {\n        \"dtype\": \"boolean\",\n        \"num_unique_values\": 2,\n        \"samples\": [\n          true,\n          false\n        ],\n        \"semantic_type\": \"\",\n        \"description\": \"\"\n      }\n    },\n    {\n      \"column\": \"race1_other\",\n      \"properties\": {\n        \"dtype\": \"boolean\",\n        \"num_unique_values\": 2,\n        \"samples\": [\n          true,\n          false\n        ],\n        \"semantic_type\": \"\",\n        \"description\": \"\"\n      }\n    },\n    {\n      \"column\": \"race1_white\",\n      \"properties\": {\n        \"dtype\": \"boolean\",\n        \"num_unique_values\": 2,\n        \"samples\": [\n          false,\n          true\n        ],\n        \"semantic_type\": \"\",\n        \"description\": \"\"\n      }\n    }\n  ]\n}"
            }
          },
          "metadata": {},
          "execution_count": 51
        }
      ]
    },
    {
      "cell_type": "code",
      "source": [
        "# Calculate total number of applicants\n",
        "total_applicants = len(df_binarized)\n",
        "\n",
        "# Dictionary to hold race names and their corresponding column names in the DataFrame\n",
        "race_columns = {\n",
        "    'Asian': 'race1_asian',\n",
        "    'Black': 'race1_black',\n",
        "    'Hispanic': 'race1_hisp',\n",
        "    'White': 'race1_white',\n",
        "    'Other': 'race1_other'\n",
        "}\n",
        "\n",
        "# Calculate the percentage of applicants for each race\n",
        "race_percentages = {}\n",
        "for race, column in race_columns.items():\n",
        "    race_count = df_binarized[column].sum()\n",
        "    race_percentage = (race_count / total_applicants) * 100\n",
        "    race_percentages[race] = race_percentage\n",
        "\n",
        "# Display the results\n",
        "print(\"Percentage of applicants by race:\")\n",
        "for race, percentage in race_percentages.items():\n",
        "    print(f\"{race}: {percentage:.2f}%\")\n"
      ],
      "metadata": {
        "colab": {
          "base_uri": "https://localhost:8080/"
        },
        "id": "BF8-n2dmb0b6",
        "outputId": "65c2a8c9-c312-4278-f16f-de4577c97651"
      },
      "id": "BF8-n2dmb0b6",
      "execution_count": null,
      "outputs": [
        {
          "output_type": "stream",
          "name": "stdout",
          "text": [
            "Percentage of applicants by race:\n",
            "Asian: 4.00%\n",
            "Black: 5.99%\n",
            "Hispanic: 4.58%\n",
            "White: 83.60%\n",
            "Other: 1.82%\n"
          ]
        }
      ]
    },
    {
      "cell_type": "markdown",
      "source": [
        "## Reweighting to mitigate bias"
      ],
      "metadata": {
        "id": "WzbbSUiCb2Mb"
      },
      "id": "WzbbSUiCb2Mb"
    },
    {
      "cell_type": "markdown",
      "source": [
        "### Down-weighting the majority"
      ],
      "metadata": {
        "id": "scg_Suflb6-2"
      },
      "id": "scg_Suflb6-2"
    },
    {
      "cell_type": "code",
      "source": [
        "# Calculate weights for each race based on inverse proportion to balance them\n",
        "majority_weight = 1 / race_percentages['White']\n",
        "weights = {\n",
        "    race: (majority_weight if race == 'White' else 1) for race in race_columns\n",
        "}\n",
        "\n",
        "# Apply weights to the DataFrame\n",
        "df_binarized['sample_weight'] = df_binarized.apply(\n",
        "    lambda row: sum(weights[race] for race, col in race_columns.items() if row[col] == 1),\n",
        "    axis=1\n",
        ")\n"
      ],
      "metadata": {
        "id": "ITc95kubcBNm"
      },
      "id": "ITc95kubcBNm",
      "execution_count": null,
      "outputs": []
    },
    {
      "cell_type": "code",
      "source": [
        "# Check new distribution of weights\n",
        "print(\"New distribution of sample weights by race:\")\n",
        "for race, col in race_columns.items():\n",
        "    average_weight = df_binarized[df_binarized[col] == 1]['sample_weight'].mean()\n",
        "    print(f\"{race}: Average Weight = {average_weight:.2f}\")"
      ],
      "metadata": {
        "colab": {
          "base_uri": "https://localhost:8080/"
        },
        "id": "J4gqrdMgcDwm",
        "outputId": "d3ae16a1-3e53-432b-df38-15028c617dbd"
      },
      "id": "J4gqrdMgcDwm",
      "execution_count": null,
      "outputs": [
        {
          "output_type": "stream",
          "name": "stdout",
          "text": [
            "New distribution of sample weights by race:\n",
            "Asian: Average Weight = 1.00\n",
            "Black: Average Weight = 1.00\n",
            "Hispanic: Average Weight = 1.00\n",
            "White: Average Weight = 0.01\n",
            "Other: Average Weight = 1.00\n"
          ]
        }
      ]
    },
    {
      "cell_type": "markdown",
      "source": [
        "### Up-weighting the minority"
      ],
      "metadata": {
        "id": "FEyDZvGFcHAA"
      },
      "id": "FEyDZvGFcHAA"
    },
    {
      "cell_type": "code",
      "source": [
        "# Calculate weights for each race based on inverse proportion to balance them\n",
        "total_percentage = 100  # Total percentage for normalization\n",
        "weights = {\n",
        "    race: total_percentage / race_percentages[race] for race in race_columns\n",
        "}\n",
        "\n",
        "# Normalize weights so they sum to the number of races to maintain overall data scale\n",
        "weight_sum = sum(weights.values())\n",
        "normalized_weights = {race: weight / weight_sum for race, weight in weights.items()}\n",
        "\n",
        "# Apply normalized weights to the DataFrame\n",
        "df_binarized['sample_weight'] = df_binarized.apply(\n",
        "    lambda row: sum(normalized_weights[race] for race, col in race_columns.items() if row[col] == 1),\n",
        "    axis=1\n",
        ")\n",
        "\n",
        "# Check new distribution of weights\n",
        "print(\"New distribution of sample weights by race:\")\n",
        "for race, col in race_columns.items():\n",
        "    average_weight = df_binarized[df_binarized[col] == 1]['sample_weight'].mean()\n",
        "    print(f\"{race}: Average Weight = {average_weight:.2f}\")\n"
      ],
      "metadata": {
        "colab": {
          "base_uri": "https://localhost:8080/"
        },
        "id": "rQQr_hLBcNHe",
        "outputId": "ff71c4ab-ef15-4ce1-9297-0b3f626bc479"
      },
      "id": "rQQr_hLBcNHe",
      "execution_count": null,
      "outputs": [
        {
          "output_type": "stream",
          "name": "stdout",
          "text": [
            "New distribution of sample weights by race:\n",
            "Asian: Average Weight = 0.21\n",
            "Black: Average Weight = 0.14\n",
            "Hispanic: Average Weight = 0.18\n",
            "White: Average Weight = 0.01\n",
            "Other: Average Weight = 0.46\n"
          ]
        }
      ]
    },
    {
      "cell_type": "code",
      "source": [
        "# Down-weighting the majority class\n",
        "weight_majority = 1 / df_binarized['race1_white'].mean()\n",
        "df_binarized['weight_down'] = df_binarized.apply(lambda x: weight_majority if x['race1_white'] == 1 else 1, axis=1)\n",
        "\n",
        "# Up-weighting the minority classes\n",
        "weights_up = {race: 1 / df_binarized[col].mean() for race, col in race_columns.items()}\n",
        "df_binarized['weight_up'] = df_binarized.apply(lambda x: sum(weights_up[race] * x[col] for race, col in race_columns.items()), axis=1)\n"
      ],
      "metadata": {
        "id": "piheyPAScQW2"
      },
      "id": "piheyPAScQW2",
      "execution_count": null,
      "outputs": []
    },
    {
      "cell_type": "code",
      "source": [
        "# Adding sample weights directly to df_binarized for both down-weighting and up-weighting\n",
        "weight_majority = 1 / df_binarized['race1_white'].mean()\n",
        "df_binarized['weight_down'] = df_binarized.apply(lambda x: weight_majority if x['race1_white'] == 1 else 1, axis=1)\n",
        "\n",
        "weights_up = {race: 1 / df_binarized[col].mean() for race, col in race_columns.items()}\n",
        "df_binarized['weight_up'] = df_binarized.apply(lambda x: sum(weights_up[race] * x[col] for race, col in race_columns.items()), axis=1)\n"
      ],
      "metadata": {
        "id": "D6b6XpW4cTJL"
      },
      "id": "D6b6XpW4cTJL",
      "execution_count": null,
      "outputs": []
    },
    {
      "cell_type": "code",
      "source": [
        "# Drop NA Values\n",
        "df_binarized.dropna(inplace=True)\n",
        "\n",
        "# Down-weighting the majority class\n",
        "weight_majority = 1 / df_binarized['race1_white'].mean()\n",
        "df_binarized['weight_down'] = df_binarized.apply(lambda x: weight_majority if x['race1_white'] == 1 else 1, axis=1)\n",
        "\n",
        "# Up-weighting the minority classes\n",
        "weights_up = {race: 1 / df_binarized[col].mean() for race, col in race_columns.items()}\n",
        "df_binarized['weight_up'] = df_binarized.apply(lambda x: sum(weights_up[race] * x[col] for race, col in race_columns.items()), axis=1)\n",
        "\n",
        "# Ensure the weights are part of your features if needed or handled separately if not\n",
        "X = df_binarized.drop(['bar_passed'], axis=1)\n",
        "y = df_binarized['bar_passed']\n",
        "\n",
        "# Split the data\n",
        "X_train, X_test, y_train, y_test = train_test_split(X, y, test_size=0.3, random_state=42)\n",
        "\n",
        "# Ensure the sample weights are not part of X_train and X_test for model training\n",
        "train_weights_down = X_train['weight_down']\n",
        "train_weights_up = X_train['weight_up']\n",
        "X_train = X_train.drop(['weight_down', 'weight_up'], axis=1)\n",
        "X_test = X_test.drop(['weight_down', 'weight_up'], axis=1)\n",
        "\n",
        "# Model training with down-weighting\n",
        "clf_down = LogisticRegression()\n",
        "clf_down.fit(X_train, y_train, sample_weight=train_weights_down)\n",
        "\n",
        "# Model training with up-weighting\n",
        "clf_up = LogisticRegression()\n",
        "clf_up.fit(X_train, y_train, sample_weight=train_weights_up)\n",
        "\n",
        "# Evaluate models\n",
        "y_pred_down = clf_down.predict(X_test)\n",
        "y_pred_up = clf_up.predict(X_test)\n",
        "\n",
        "print(\"Model Evaluation with Down-Weighting:\")\n",
        "print(classification_report(y_test, y_pred_down))\n",
        "\n",
        "print(\"Model Evaluation with Up-Weighting:\")\n",
        "print(classification_report(y_test, y_pred_up))\n"
      ],
      "metadata": {
        "colab": {
          "base_uri": "https://localhost:8080/"
        },
        "id": "s1twe2AocW75",
        "outputId": "d376b35f-d79a-43e9-8988-f5e59871e3ab"
      },
      "id": "s1twe2AocW75",
      "execution_count": null,
      "outputs": [
        {
          "output_type": "stream",
          "name": "stderr",
          "text": [
            "/usr/local/lib/python3.10/dist-packages/sklearn/linear_model/_logistic.py:458: ConvergenceWarning: lbfgs failed to converge (status=1):\n",
            "STOP: TOTAL NO. of ITERATIONS REACHED LIMIT.\n",
            "\n",
            "Increase the number of iterations (max_iter) or scale the data as shown in:\n",
            "    https://scikit-learn.org/stable/modules/preprocessing.html\n",
            "Please also refer to the documentation for alternative solver options:\n",
            "    https://scikit-learn.org/stable/modules/linear_model.html#logistic-regression\n",
            "  n_iter_i = _check_optimize_result(\n"
          ]
        },
        {
          "output_type": "stream",
          "name": "stdout",
          "text": [
            "Model Evaluation with Down-Weighting:\n",
            "              precision    recall  f1-score   support\n",
            "\n",
            "       False       0.51      0.08      0.14       301\n",
            "        True       0.95      1.00      0.97      5854\n",
            "\n",
            "    accuracy                           0.95      6155\n",
            "   macro avg       0.73      0.54      0.56      6155\n",
            "weighted avg       0.93      0.95      0.93      6155\n",
            "\n",
            "Model Evaluation with Up-Weighting:\n",
            "              precision    recall  f1-score   support\n",
            "\n",
            "       False       0.47      0.08      0.14       301\n",
            "        True       0.95      1.00      0.97      5854\n",
            "\n",
            "    accuracy                           0.95      6155\n",
            "   macro avg       0.71      0.54      0.56      6155\n",
            "weighted avg       0.93      0.95      0.93      6155\n",
            "\n"
          ]
        },
        {
          "output_type": "stream",
          "name": "stderr",
          "text": [
            "/usr/local/lib/python3.10/dist-packages/sklearn/linear_model/_logistic.py:458: ConvergenceWarning: lbfgs failed to converge (status=1):\n",
            "STOP: TOTAL NO. of ITERATIONS REACHED LIMIT.\n",
            "\n",
            "Increase the number of iterations (max_iter) or scale the data as shown in:\n",
            "    https://scikit-learn.org/stable/modules/preprocessing.html\n",
            "Please also refer to the documentation for alternative solver options:\n",
            "    https://scikit-learn.org/stable/modules/linear_model.html#logistic-regression\n",
            "  n_iter_i = _check_optimize_result(\n"
          ]
        }
      ]
    },
    {
      "cell_type": "markdown",
      "source": [
        "I dont like the results bc i think we are considering too many variables. Below I run a regression to determine statistically significant variables and then rerun the log_reg"
      ],
      "metadata": {
        "id": "21EDOQ6ncZ4-"
      },
      "id": "21EDOQ6ncZ4-"
    },
    {
      "cell_type": "code",
      "source": [
        "from sklearn.feature_selection import RFE\n",
        "from sklearn.linear_model import LogisticRegression\n",
        "\n",
        "# Instantiate a logistic regression classifier\n",
        "logreg = LogisticRegression()\n",
        "\n",
        "# RFE model\n",
        "rfe = RFE(estimator=logreg, n_features_to_select=5)  # Adjust n_features_to_select based on domain knowledge or based on the model complexity you are aiming for\n",
        "rfe = rfe.fit(X, y)\n",
        "\n",
        "# Summarize the selection of the attributes\n",
        "print('Selected features: %s' % list(X.columns[rfe.support_]))\n",
        "\n"
      ],
      "metadata": {
        "colab": {
          "base_uri": "https://localhost:8080/"
        },
        "id": "gy5nLVrscbGt",
        "outputId": "112a3919-f6de-4d9d-fd99-404358aa50ae"
      },
      "id": "gy5nLVrscbGt",
      "execution_count": null,
      "outputs": [
        {
          "output_type": "stream",
          "name": "stderr",
          "text": [
            "/usr/local/lib/python3.10/dist-packages/sklearn/linear_model/_logistic.py:458: ConvergenceWarning: lbfgs failed to converge (status=1):\n",
            "STOP: TOTAL NO. of ITERATIONS REACHED LIMIT.\n",
            "\n",
            "Increase the number of iterations (max_iter) or scale the data as shown in:\n",
            "    https://scikit-learn.org/stable/modules/preprocessing.html\n",
            "Please also refer to the documentation for alternative solver options:\n",
            "    https://scikit-learn.org/stable/modules/linear_model.html#logistic-regression\n",
            "  n_iter_i = _check_optimize_result(\n",
            "/usr/local/lib/python3.10/dist-packages/sklearn/linear_model/_logistic.py:458: ConvergenceWarning: lbfgs failed to converge (status=1):\n",
            "STOP: TOTAL NO. of ITERATIONS REACHED LIMIT.\n",
            "\n",
            "Increase the number of iterations (max_iter) or scale the data as shown in:\n",
            "    https://scikit-learn.org/stable/modules/preprocessing.html\n",
            "Please also refer to the documentation for alternative solver options:\n",
            "    https://scikit-learn.org/stable/modules/linear_model.html#logistic-regression\n",
            "  n_iter_i = _check_optimize_result(\n",
            "/usr/local/lib/python3.10/dist-packages/sklearn/linear_model/_logistic.py:458: ConvergenceWarning: lbfgs failed to converge (status=1):\n",
            "STOP: TOTAL NO. of ITERATIONS REACHED LIMIT.\n",
            "\n",
            "Increase the number of iterations (max_iter) or scale the data as shown in:\n",
            "    https://scikit-learn.org/stable/modules/preprocessing.html\n",
            "Please also refer to the documentation for alternative solver options:\n",
            "    https://scikit-learn.org/stable/modules/linear_model.html#logistic-regression\n",
            "  n_iter_i = _check_optimize_result(\n",
            "/usr/local/lib/python3.10/dist-packages/sklearn/linear_model/_logistic.py:458: ConvergenceWarning: lbfgs failed to converge (status=1):\n",
            "STOP: TOTAL NO. of ITERATIONS REACHED LIMIT.\n",
            "\n",
            "Increase the number of iterations (max_iter) or scale the data as shown in:\n",
            "    https://scikit-learn.org/stable/modules/preprocessing.html\n",
            "Please also refer to the documentation for alternative solver options:\n",
            "    https://scikit-learn.org/stable/modules/linear_model.html#logistic-regression\n",
            "  n_iter_i = _check_optimize_result(\n",
            "/usr/local/lib/python3.10/dist-packages/sklearn/linear_model/_logistic.py:458: ConvergenceWarning: lbfgs failed to converge (status=1):\n",
            "STOP: TOTAL NO. of ITERATIONS REACHED LIMIT.\n",
            "\n",
            "Increase the number of iterations (max_iter) or scale the data as shown in:\n",
            "    https://scikit-learn.org/stable/modules/preprocessing.html\n",
            "Please also refer to the documentation for alternative solver options:\n",
            "    https://scikit-learn.org/stable/modules/linear_model.html#logistic-regression\n",
            "  n_iter_i = _check_optimize_result(\n",
            "/usr/local/lib/python3.10/dist-packages/sklearn/linear_model/_logistic.py:458: ConvergenceWarning: lbfgs failed to converge (status=1):\n",
            "STOP: TOTAL NO. of ITERATIONS REACHED LIMIT.\n",
            "\n",
            "Increase the number of iterations (max_iter) or scale the data as shown in:\n",
            "    https://scikit-learn.org/stable/modules/preprocessing.html\n",
            "Please also refer to the documentation for alternative solver options:\n",
            "    https://scikit-learn.org/stable/modules/linear_model.html#logistic-regression\n",
            "  n_iter_i = _check_optimize_result(\n",
            "/usr/local/lib/python3.10/dist-packages/sklearn/linear_model/_logistic.py:458: ConvergenceWarning: lbfgs failed to converge (status=1):\n",
            "STOP: TOTAL NO. of ITERATIONS REACHED LIMIT.\n",
            "\n",
            "Increase the number of iterations (max_iter) or scale the data as shown in:\n",
            "    https://scikit-learn.org/stable/modules/preprocessing.html\n",
            "Please also refer to the documentation for alternative solver options:\n",
            "    https://scikit-learn.org/stable/modules/linear_model.html#logistic-regression\n",
            "  n_iter_i = _check_optimize_result(\n",
            "/usr/local/lib/python3.10/dist-packages/sklearn/linear_model/_logistic.py:458: ConvergenceWarning: lbfgs failed to converge (status=1):\n",
            "STOP: TOTAL NO. of ITERATIONS REACHED LIMIT.\n",
            "\n",
            "Increase the number of iterations (max_iter) or scale the data as shown in:\n",
            "    https://scikit-learn.org/stable/modules/preprocessing.html\n",
            "Please also refer to the documentation for alternative solver options:\n",
            "    https://scikit-learn.org/stable/modules/linear_model.html#logistic-regression\n",
            "  n_iter_i = _check_optimize_result(\n",
            "/usr/local/lib/python3.10/dist-packages/sklearn/linear_model/_logistic.py:458: ConvergenceWarning: lbfgs failed to converge (status=1):\n",
            "STOP: TOTAL NO. of ITERATIONS REACHED LIMIT.\n",
            "\n",
            "Increase the number of iterations (max_iter) or scale the data as shown in:\n",
            "    https://scikit-learn.org/stable/modules/preprocessing.html\n",
            "Please also refer to the documentation for alternative solver options:\n",
            "    https://scikit-learn.org/stable/modules/linear_model.html#logistic-regression\n",
            "  n_iter_i = _check_optimize_result(\n"
          ]
        },
        {
          "output_type": "stream",
          "name": "stdout",
          "text": [
            "Selected features: ['decile3', 'fulltime', 'tier', 'indxgrp2', 'race1_white']\n"
          ]
        }
      ]
    },
    {
      "cell_type": "code",
      "source": [
        "#Selected features: ['decile3', 'fulltime', 'tier', 'indxgrp2', 'race1_white']"
      ],
      "metadata": {
        "id": "1cvGcJ-RcgsH"
      },
      "id": "1cvGcJ-RcgsH",
      "execution_count": null,
      "outputs": []
    },
    {
      "cell_type": "code",
      "source": [
        "# Select only significant variables from RFE\n",
        "significant_vars = X.columns[rfe.support_]\n",
        "X_significant = X[significant_vars]\n",
        "\n",
        "# Split the data with only significant variables\n",
        "X_train_sig, X_test_sig, y_train, y_test = train_test_split(X_significant, y, test_size=0.3, random_state=42)\n"
      ],
      "metadata": {
        "id": "wJONYwxMcfaq"
      },
      "id": "wJONYwxMcfaq",
      "execution_count": null,
      "outputs": []
    },
    {
      "cell_type": "code",
      "source": [
        "# Ensure the sample weights are not part of X_train_sig and X_test_sig for model training\n",
        "train_weights_down = X_train_sig.join(df_binarized['weight_down']).drop(significant_vars, axis=1)\n",
        "train_weights_up = X_train_sig.join(df_binarized['weight_up']).drop(significant_vars, axis=1)\n",
        "\n",
        "# Model training with down-weighting using significant variables\n",
        "clf_down_sig = LogisticRegression()\n",
        "clf_down_sig.fit(X_train_sig, y_train, sample_weight=train_weights_down['weight_down'])\n",
        "\n",
        "# Model training with up-weighting using significant variables\n",
        "clf_up_sig = LogisticRegression()\n",
        "clf_up_sig.fit(X_train_sig, y_train, sample_weight=train_weights_up['weight_up'])\n",
        "\n",
        "# Evaluate models using significant variables\n",
        "y_pred_down_sig = clf_down_sig.predict(X_test_sig)\n",
        "y_pred_up_sig = clf_up_sig.predict(X_test_sig)\n",
        "\n",
        "print(\"Model Evaluation with Down-Weighting using Significant Variables:\")\n",
        "print(classification_report(y_test, y_pred_down_sig))\n",
        "\n",
        "print(\"Model Evaluation with Up-Weighting using Significant Variables:\")\n",
        "print(classification_report(y_test, y_pred_up_sig))\n"
      ],
      "metadata": {
        "colab": {
          "base_uri": "https://localhost:8080/"
        },
        "id": "HTJu_lMechgh",
        "outputId": "ec08edd1-5b0d-4a30-8aa2-0292ee58a691"
      },
      "id": "HTJu_lMechgh",
      "execution_count": null,
      "outputs": [
        {
          "output_type": "stream",
          "name": "stdout",
          "text": [
            "Model Evaluation with Down-Weighting using Significant Variables:\n",
            "              precision    recall  f1-score   support\n",
            "\n",
            "       False       0.56      0.08      0.14       301\n",
            "        True       0.95      1.00      0.98      5854\n",
            "\n",
            "    accuracy                           0.95      6155\n",
            "   macro avg       0.76      0.54      0.56      6155\n",
            "weighted avg       0.94      0.95      0.93      6155\n",
            "\n",
            "Model Evaluation with Up-Weighting using Significant Variables:\n",
            "              precision    recall  f1-score   support\n",
            "\n",
            "       False       0.51      0.09      0.15       301\n",
            "        True       0.95      1.00      0.97      5854\n",
            "\n",
            "    accuracy                           0.95      6155\n",
            "   macro avg       0.73      0.54      0.56      6155\n",
            "weighted avg       0.93      0.95      0.93      6155\n",
            "\n"
          ]
        }
      ]
    },
    {
      "cell_type": "code",
      "source": [
        "from sklearn.metrics import precision_recall_fscore_support\n",
        "\n",
        "# Get precision and recall for both models\n",
        "precision_down, recall_down, _, _ = precision_recall_fscore_support(y_test, y_pred_down_sig, average='binary')  # adjust 'binary' to 'macro' or 'weighted' based on your classification\n",
        "precision_up, recall_up, _, _ = precision_recall_fscore_support(y_test, y_pred_up_sig, average='binary')\n",
        "\n",
        "# Prepare data for plotting\n",
        "models = ['Down-Weighting', 'Up-Weighting']\n",
        "precision_scores = [precision_down, precision_up]\n",
        "recall_scores = [recall_down, recall_up]\n"
      ],
      "metadata": {
        "id": "QGQ0W0GDckmH"
      },
      "id": "QGQ0W0GDckmH",
      "execution_count": null,
      "outputs": []
    },
    {
      "cell_type": "code",
      "source": [
        "barWidth = 0.35\n",
        "r1 = np.arange(len(precision_scores))\n",
        "r2 = [x + barWidth for x in r1]\n",
        "\n",
        "\n",
        "plt.figure(figsize=(10, 6))\n",
        "plt.bar(r1, precision_scores, color='b', width=barWidth, edgecolor='grey', label='Precision')\n",
        "plt.bar(r2, recall_scores, color='r', width=barWidth, edgecolor='grey', label='Recall')\n",
        "plt.xlabel('Model', fontweight='bold', fontsize=15)\n",
        "plt.ylabel('Scores', fontweight='bold', fontsize=15)\n",
        "plt.xticks([r + barWidth/2 for r in range(len(precision_scores))], models)\n",
        "plt.title('Precision and Recall Comparison')\n",
        "plt.legend()\n",
        "plt.show()\n"
      ],
      "metadata": {
        "colab": {
          "base_uri": "https://localhost:8080/",
          "height": 569
        },
        "id": "U1siGoBwcl8U",
        "outputId": "07b8eb54-1aaa-44b0-8196-527fb335a5c8"
      },
      "id": "U1siGoBwcl8U",
      "execution_count": null,
      "outputs": [
        {
          "output_type": "display_data",
          "data": {
            "text/plain": [
              "<Figure size 1000x600 with 1 Axes>"
            ],
            "image/png": "[encoded data removed]"
          },
          "metadata": {}
        }
      ]
    },
    {
      "cell_type": "code",
      "source": [
        "# Assuming clf_up is the full model and clf_up_sig is the significant variables model\n",
        "y_pred_full_up = clf_up.predict(X_test)\n",
        "y_pred_sig_up = clf_up_sig.predict(X_test_sig)\n",
        "\n",
        "# Get precision and recall for both models\n",
        "precision_full_up, recall_full_up, _, _ = precision_recall_fscore_support(y_test, y_pred_full_up, average='binary')\n",
        "precision_sig_up, recall_sig_up, _, _ = precision_recall_fscore_support(y_test, y_pred_sig_up, average='binary')\n",
        "\n",
        "models = ['Full Up-Weighted', 'Significant Up-Weighted']\n",
        "precision_scores = [precision_full_up, precision_sig_up]\n",
        "recall_scores = [recall_full_up, recall_sig_up]\n"
      ],
      "metadata": {
        "id": "qQrw0tWDcnRM"
      },
      "id": "qQrw0tWDcnRM",
      "execution_count": null,
      "outputs": []
    },
    {
      "cell_type": "code",
      "source": [
        "barWidth = 0.35\n",
        "r1 = np.arange(len(precision_scores))\n",
        "r2 = [x + barWidth for x in r1]\n",
        "\n",
        "plt.figure(figsize=(10, 6))\n",
        "plt.bar(r1, precision_scores, color='blue', width=barWidth, edgecolor='grey', label='Precision')\n",
        "plt.bar(r2, recall_scores, color='red', width=barWidth, edgecolor='grey', label='Recall')\n",
        "\n",
        "\n",
        "plt.xlabel('Model', fontweight='bold', fontsize=15)\n",
        "plt.ylabel('Scores', fontweight='bold', fontsize=15)\n",
        "plt.xticks([r + barWidth/2 for r in range(len(precision_scores))], models)\n",
        "\n",
        "plt.title('Comparison of Precision and Recall for Up-Weighting Strategies')\n",
        "plt.legend()\n",
        "plt.show()\n"
      ],
      "metadata": {
        "colab": {
          "base_uri": "https://localhost:8080/",
          "height": 569
        },
        "id": "ca4oh_aucoyV",
        "outputId": "c73ef8fe-6c91-4638-b220-acd08f68f07f"
      },
      "id": "ca4oh_aucoyV",
      "execution_count": null,
      "outputs": [
        {
          "output_type": "display_data",
          "data": {
            "text/plain": [
              "<Figure size 1000x600 with 1 Axes>"
            ],
            "image/png": "[encoded data removed]"
          },
          "metadata": {}
        }
      ]
    }
  ],
  "metadata": {
    "colab": {
      "provenance": []
    },
    "kernelspec": {
      "display_name": "Python 3 (ipykernel)",
      "language": "python",
      "name": "python3"
    },
    "language_info": {
      "codemirror_mode": {
        "name": "ipython",
        "version": 3
      },
      "file_extension": ".py",
      "mimetype": "text/x-python",
      "name": "python",
      "nbconvert_exporter": "python",
      "pygments_lexer": "ipython3",
      "version": "3.11.7"
    }
  },
  "nbformat": 4,
  "nbformat_minor": 5
}